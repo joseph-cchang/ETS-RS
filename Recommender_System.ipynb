{
 "cells": [
  {
   "cell_type": "markdown",
   "id": "9a662f9a",
   "metadata": {},
   "source": [
    "# How to Recommend Movies to Users Based on Ratings"
   ]
  },
  {
   "cell_type": "code",
   "execution_count": 106,
   "id": "843e418e",
   "metadata": {},
   "outputs": [],
   "source": [
    "import collections\n",
    "import matplotlib.pyplot as plt\n",
    "import networkx as nx\n",
    "import numpy as np\n",
    "import pandas as pd\n",
    "import os\n",
    "import scipy.sparse\n",
    "import warnings\n",
    "warnings.filterwarnings('ignore')\n",
    "\n",
    "from kneed import KneeLocator \n",
    "from numpy.linalg import norm\n",
    "from networkx.algorithms import bipartite\n",
    "from networkx.algorithms.bipartite import from_biadjacency_matrix\n",
    "from networkx.drawing.layout import bipartite_layout\n",
    "from scipy.spatial.distance import cdist\n",
    "from scipy.spatial.distance import pdist\n",
    "from scipy.spatial.distance import squareform\n",
    "from sklearn.cluster import KMeans\n",
    "from sklearn.metrics import silhouette_score\n",
    "from sklearn.metrics.pairwise import cosine_similarity\n",
    "from sklearn.model_selection import train_test_split\n",
    "\n",
    "np.set_printoptions(precision=3, linewidth=100)"
   ]
  },
  {
   "cell_type": "markdown",
   "id": "84fea358",
   "metadata": {},
   "source": [
    "# MovieLens DataSet"
   ]
  },
  {
   "cell_type": "markdown",
   "id": "4583e1b3",
   "metadata": {},
   "source": [
    "For more information, visit here: https://grouplens.org/datasets/movielens/ (ml-latest-small)"
   ]
  },
  {
   "cell_type": "markdown",
   "id": "7d2cbd60",
   "metadata": {},
   "source": [
    "The MovieLens dataset was collected by GroupLens Research and made available from the MovieLens website, with data sets collected over various periods of time\n",
    "As mentioned before, the smaller version had over 100,000 ratings from 1-5 applied to 9,000 movies by 600 users. Movies are updated as of September 2018, so newer movies are not included here.​ \n"
   ]
  },
  {
   "cell_type": "code",
   "execution_count": 107,
   "id": "6b487247",
   "metadata": {},
   "outputs": [],
   "source": [
    "data_dir = \"/Users/josephchang/Downloads/ml-latest-small\""
   ]
  },
  {
   "cell_type": "markdown",
   "id": "3fdb723a",
   "metadata": {},
   "source": [
    "# Data Cleaning"
   ]
  },
  {
   "cell_type": "markdown",
   "id": "a3fceeb1",
   "metadata": {},
   "source": [
    " This is the movie_data showing each movie index, movie title, and genre. Some genres include adventure, comedy, fantasy, and some movies could have more than one genre.\n",
    "Here, the first five rows are shown.\n"
   ]
  },
  {
   "cell_type": "code",
   "execution_count": 108,
   "id": "a6f2abb5",
   "metadata": {},
   "outputs": [
    {
     "data": {
      "text/html": [
       "<div>\n",
       "<style scoped>\n",
       "    .dataframe tbody tr th:only-of-type {\n",
       "        vertical-align: middle;\n",
       "    }\n",
       "\n",
       "    .dataframe tbody tr th {\n",
       "        vertical-align: top;\n",
       "    }\n",
       "\n",
       "    .dataframe thead th {\n",
       "        text-align: right;\n",
       "    }\n",
       "</style>\n",
       "<table border=\"1\" class=\"dataframe\">\n",
       "  <thead>\n",
       "    <tr style=\"text-align: right;\">\n",
       "      <th></th>\n",
       "      <th>movieId</th>\n",
       "      <th>title</th>\n",
       "      <th>genres</th>\n",
       "    </tr>\n",
       "  </thead>\n",
       "  <tbody>\n",
       "    <tr>\n",
       "      <th>0</th>\n",
       "      <td>0</td>\n",
       "      <td>Toy Story (1995)</td>\n",
       "      <td>Adventure|Animation|Children|Comedy|Fantasy</td>\n",
       "    </tr>\n",
       "    <tr>\n",
       "      <th>1</th>\n",
       "      <td>1</td>\n",
       "      <td>Jumanji (1995)</td>\n",
       "      <td>Adventure|Children|Fantasy</td>\n",
       "    </tr>\n",
       "    <tr>\n",
       "      <th>2</th>\n",
       "      <td>2</td>\n",
       "      <td>Grumpier Old Men (1995)</td>\n",
       "      <td>Comedy|Romance</td>\n",
       "    </tr>\n",
       "    <tr>\n",
       "      <th>3</th>\n",
       "      <td>3</td>\n",
       "      <td>Waiting to Exhale (1995)</td>\n",
       "      <td>Comedy|Drama|Romance</td>\n",
       "    </tr>\n",
       "    <tr>\n",
       "      <th>4</th>\n",
       "      <td>4</td>\n",
       "      <td>Father of the Bride Part II (1995)</td>\n",
       "      <td>Comedy</td>\n",
       "    </tr>\n",
       "  </tbody>\n",
       "</table>\n",
       "</div>"
      ],
      "text/plain": [
       "   movieId                               title  \\\n",
       "0        0                    Toy Story (1995)   \n",
       "1        1                      Jumanji (1995)   \n",
       "2        2             Grumpier Old Men (1995)   \n",
       "3        3            Waiting to Exhale (1995)   \n",
       "4        4  Father of the Bride Part II (1995)   \n",
       "\n",
       "                                        genres  \n",
       "0  Adventure|Animation|Children|Comedy|Fantasy  \n",
       "1                   Adventure|Children|Fantasy  \n",
       "2                               Comedy|Romance  \n",
       "3                         Comedy|Drama|Romance  \n",
       "4                                       Comedy  "
      ]
     },
     "execution_count": 108,
     "metadata": {},
     "output_type": "execute_result"
    }
   ],
   "source": [
    "movie_data = pd.read_csv(os.path.join(data_dir, \"movies.csv\"))\n",
    "movie_data['movieId'] -= 1\n",
    "movie_data.head()"
   ]
  },
  {
   "cell_type": "markdown",
   "id": "d86deffa",
   "metadata": {},
   "source": [
    "Next is the rankings data. This shows the first five rows of user index, movie index, rating, and timestamp. In the rating column, it originally showed ratings 1-5, but I cubed each rating to signify a greater attraction towards a movie. \n",
    "Additionally, only ratings with a score of 64 or above are included. This removed ratings that were not as high and allowed me to compare movies which I will show later.\n"
   ]
  },
  {
   "cell_type": "code",
   "execution_count": 109,
   "id": "3d71ce8b",
   "metadata": {},
   "outputs": [
    {
     "data": {
      "text/html": [
       "<div>\n",
       "<style scoped>\n",
       "    .dataframe tbody tr th:only-of-type {\n",
       "        vertical-align: middle;\n",
       "    }\n",
       "\n",
       "    .dataframe tbody tr th {\n",
       "        vertical-align: top;\n",
       "    }\n",
       "\n",
       "    .dataframe thead th {\n",
       "        text-align: right;\n",
       "    }\n",
       "</style>\n",
       "<table border=\"1\" class=\"dataframe\">\n",
       "  <thead>\n",
       "    <tr style=\"text-align: right;\">\n",
       "      <th></th>\n",
       "      <th>userId</th>\n",
       "      <th>movieId</th>\n",
       "      <th>rating</th>\n",
       "      <th>timestamp</th>\n",
       "    </tr>\n",
       "  </thead>\n",
       "  <tbody>\n",
       "    <tr>\n",
       "      <th>0</th>\n",
       "      <td>0</td>\n",
       "      <td>0</td>\n",
       "      <td>64.0</td>\n",
       "      <td>964982703</td>\n",
       "    </tr>\n",
       "    <tr>\n",
       "      <th>1</th>\n",
       "      <td>0</td>\n",
       "      <td>2</td>\n",
       "      <td>64.0</td>\n",
       "      <td>964981247</td>\n",
       "    </tr>\n",
       "    <tr>\n",
       "      <th>2</th>\n",
       "      <td>0</td>\n",
       "      <td>5</td>\n",
       "      <td>64.0</td>\n",
       "      <td>964982224</td>\n",
       "    </tr>\n",
       "    <tr>\n",
       "      <th>3</th>\n",
       "      <td>0</td>\n",
       "      <td>46</td>\n",
       "      <td>125.0</td>\n",
       "      <td>964983815</td>\n",
       "    </tr>\n",
       "    <tr>\n",
       "      <th>4</th>\n",
       "      <td>0</td>\n",
       "      <td>49</td>\n",
       "      <td>125.0</td>\n",
       "      <td>964982931</td>\n",
       "    </tr>\n",
       "  </tbody>\n",
       "</table>\n",
       "</div>"
      ],
      "text/plain": [
       "   userId  movieId  rating  timestamp\n",
       "0       0        0    64.0  964982703\n",
       "1       0        2    64.0  964981247\n",
       "2       0        5    64.0  964982224\n",
       "3       0       46   125.0  964983815\n",
       "4       0       49   125.0  964982931"
      ]
     },
     "execution_count": 109,
     "metadata": {},
     "output_type": "execute_result"
    }
   ],
   "source": [
    "ranking = pd.read_csv(os.path.join(data_dir, \"ratings.csv\"))\n",
    "ranking['userId'] -= 1\n",
    "ranking['movieId'] -= 1\n",
    "ranking['rating']  = np.power((ranking['rating']),3)\n",
    "ranking = ranking.query('rating >= 64.0')\n",
    "ranking.head()"
   ]
  },
  {
   "cell_type": "markdown",
   "id": "44574d94",
   "metadata": {},
   "source": [
    "Once I had a moviedata and a rankings data, I merged them together with the common column of movieId. This new dataset contains userid, movieid, rating, timestamp, title of movie, and genre of movie. \n"
   ]
  },
  {
   "cell_type": "code",
   "execution_count": 110,
   "id": "0efe76bc",
   "metadata": {
    "scrolled": true
   },
   "outputs": [
    {
     "data": {
      "text/html": [
       "<div>\n",
       "<style scoped>\n",
       "    .dataframe tbody tr th:only-of-type {\n",
       "        vertical-align: middle;\n",
       "    }\n",
       "\n",
       "    .dataframe tbody tr th {\n",
       "        vertical-align: top;\n",
       "    }\n",
       "\n",
       "    .dataframe thead th {\n",
       "        text-align: right;\n",
       "    }\n",
       "</style>\n",
       "<table border=\"1\" class=\"dataframe\">\n",
       "  <thead>\n",
       "    <tr style=\"text-align: right;\">\n",
       "      <th></th>\n",
       "      <th>userId</th>\n",
       "      <th>movieId</th>\n",
       "      <th>rating</th>\n",
       "      <th>timestamp</th>\n",
       "      <th>title</th>\n",
       "      <th>genres</th>\n",
       "    </tr>\n",
       "  </thead>\n",
       "  <tbody>\n",
       "    <tr>\n",
       "      <th>0</th>\n",
       "      <td>0</td>\n",
       "      <td>0</td>\n",
       "      <td>64.0</td>\n",
       "      <td>964982703</td>\n",
       "      <td>Toy Story (1995)</td>\n",
       "      <td>Adventure|Animation|Children|Comedy|Fantasy</td>\n",
       "    </tr>\n",
       "    <tr>\n",
       "      <th>1</th>\n",
       "      <td>0</td>\n",
       "      <td>2</td>\n",
       "      <td>64.0</td>\n",
       "      <td>964981247</td>\n",
       "      <td>Grumpier Old Men (1995)</td>\n",
       "      <td>Comedy|Romance</td>\n",
       "    </tr>\n",
       "    <tr>\n",
       "      <th>2</th>\n",
       "      <td>0</td>\n",
       "      <td>5</td>\n",
       "      <td>64.0</td>\n",
       "      <td>964982224</td>\n",
       "      <td>Heat (1995)</td>\n",
       "      <td>Action|Crime|Thriller</td>\n",
       "    </tr>\n",
       "    <tr>\n",
       "      <th>3</th>\n",
       "      <td>0</td>\n",
       "      <td>46</td>\n",
       "      <td>125.0</td>\n",
       "      <td>964983815</td>\n",
       "      <td>Seven (a.k.a. Se7en) (1995)</td>\n",
       "      <td>Mystery|Thriller</td>\n",
       "    </tr>\n",
       "    <tr>\n",
       "      <th>4</th>\n",
       "      <td>0</td>\n",
       "      <td>49</td>\n",
       "      <td>125.0</td>\n",
       "      <td>964982931</td>\n",
       "      <td>Usual Suspects, The (1995)</td>\n",
       "      <td>Crime|Mystery|Thriller</td>\n",
       "    </tr>\n",
       "    <tr>\n",
       "      <th>...</th>\n",
       "      <td>...</td>\n",
       "      <td>...</td>\n",
       "      <td>...</td>\n",
       "      <td>...</td>\n",
       "      <td>...</td>\n",
       "      <td>...</td>\n",
       "    </tr>\n",
       "    <tr>\n",
       "      <th>48575</th>\n",
       "      <td>609</td>\n",
       "      <td>166527</td>\n",
       "      <td>64.0</td>\n",
       "      <td>1493879365</td>\n",
       "      <td>Rogue One: A Star Wars Story (2016)</td>\n",
       "      <td>Action|Adventure|Fantasy|Sci-Fi</td>\n",
       "    </tr>\n",
       "    <tr>\n",
       "      <th>48576</th>\n",
       "      <td>609</td>\n",
       "      <td>166533</td>\n",
       "      <td>64.0</td>\n",
       "      <td>1493848402</td>\n",
       "      <td>Split (2017)</td>\n",
       "      <td>Drama|Horror|Thriller</td>\n",
       "    </tr>\n",
       "    <tr>\n",
       "      <th>48577</th>\n",
       "      <td>609</td>\n",
       "      <td>168247</td>\n",
       "      <td>125.0</td>\n",
       "      <td>1493850091</td>\n",
       "      <td>John Wick: Chapter Two (2017)</td>\n",
       "      <td>Action|Crime|Thriller</td>\n",
       "    </tr>\n",
       "    <tr>\n",
       "      <th>48578</th>\n",
       "      <td>609</td>\n",
       "      <td>168249</td>\n",
       "      <td>125.0</td>\n",
       "      <td>1494273047</td>\n",
       "      <td>Get Out (2017)</td>\n",
       "      <td>Horror</td>\n",
       "    </tr>\n",
       "    <tr>\n",
       "      <th>48579</th>\n",
       "      <td>609</td>\n",
       "      <td>168251</td>\n",
       "      <td>125.0</td>\n",
       "      <td>1493846352</td>\n",
       "      <td>Logan (2017)</td>\n",
       "      <td>Action|Sci-Fi</td>\n",
       "    </tr>\n",
       "  </tbody>\n",
       "</table>\n",
       "<p>48580 rows × 6 columns</p>\n",
       "</div>"
      ],
      "text/plain": [
       "       userId  movieId  rating   timestamp  \\\n",
       "0           0        0    64.0   964982703   \n",
       "1           0        2    64.0   964981247   \n",
       "2           0        5    64.0   964982224   \n",
       "3           0       46   125.0   964983815   \n",
       "4           0       49   125.0   964982931   \n",
       "...       ...      ...     ...         ...   \n",
       "48575     609   166527    64.0  1493879365   \n",
       "48576     609   166533    64.0  1493848402   \n",
       "48577     609   168247   125.0  1493850091   \n",
       "48578     609   168249   125.0  1494273047   \n",
       "48579     609   168251   125.0  1493846352   \n",
       "\n",
       "                                     title  \\\n",
       "0                         Toy Story (1995)   \n",
       "1                  Grumpier Old Men (1995)   \n",
       "2                              Heat (1995)   \n",
       "3              Seven (a.k.a. Se7en) (1995)   \n",
       "4               Usual Suspects, The (1995)   \n",
       "...                                    ...   \n",
       "48575  Rogue One: A Star Wars Story (2016)   \n",
       "48576                         Split (2017)   \n",
       "48577        John Wick: Chapter Two (2017)   \n",
       "48578                       Get Out (2017)   \n",
       "48579                         Logan (2017)   \n",
       "\n",
       "                                            genres  \n",
       "0      Adventure|Animation|Children|Comedy|Fantasy  \n",
       "1                                   Comedy|Romance  \n",
       "2                            Action|Crime|Thriller  \n",
       "3                                 Mystery|Thriller  \n",
       "4                           Crime|Mystery|Thriller  \n",
       "...                                            ...  \n",
       "48575              Action|Adventure|Fantasy|Sci-Fi  \n",
       "48576                        Drama|Horror|Thriller  \n",
       "48577                        Action|Crime|Thriller  \n",
       "48578                                       Horror  \n",
       "48579                                Action|Sci-Fi  \n",
       "\n",
       "[48580 rows x 6 columns]"
      ]
     },
     "metadata": {},
     "output_type": "display_data"
    }
   ],
   "source": [
    "data = pd.merge(ranking, movie_data, how = \"left\", on = \"movieId\")\n",
    "display(data)"
   ]
  },
  {
   "cell_type": "markdown",
   "id": "0265c726",
   "metadata": {},
   "source": [
    "# Training / Testing Split"
   ]
  },
  {
   "cell_type": "markdown",
   "id": "f8541b30",
   "metadata": {},
   "source": [
    "Next, I split the new dataset into training and testing sets. So, I split training and testing at 80% and 20% respectively for each user. Notice that after splitting, there are 487 training users and 122 testing users. This matches our total of 609 users which was before splitting\n"
   ]
  },
  {
   "cell_type": "code",
   "execution_count": 111,
   "id": "15e56b66",
   "metadata": {},
   "outputs": [
    {
     "name": "stdout",
     "output_type": "stream",
     "text": [
      "No. of training users: 487\n",
      "No. of testing users: 122\n"
     ]
    }
   ],
   "source": [
    "X_train_users, X_test_users = train_test_split(data['userId'].unique(), train_size=0.8, random_state = 25)\n",
    "\n",
    "print(f\"No. of training users: {X_train_users.shape[0]}\")\n",
    "print(f\"No. of testing users: {len(X_test_users)}\")"
   ]
  },
  {
   "cell_type": "code",
   "execution_count": 112,
   "id": "c74666de",
   "metadata": {},
   "outputs": [],
   "source": [
    "X_training = data[data['userId'].isin(X_train_users)]\n",
    "X_testing = data[data['userId'].isin(X_test_users)]"
   ]
  },
  {
   "cell_type": "markdown",
   "id": "d6e379ef",
   "metadata": {},
   "source": [
    "# Training Data Statistics"
   ]
  },
  {
   "cell_type": "markdown",
   "id": "5ab4e178",
   "metadata": {},
   "source": [
    "Next I will generate statistics of the training data. To see how many movies each user watched, notice that the mean is around 80 movies with minimum at 3 and maximum at 1227."
   ]
  },
  {
   "cell_type": "code",
   "execution_count": 113,
   "id": "7591f842",
   "metadata": {},
   "outputs": [
    {
     "data": {
      "text/plain": [
       "count     487.000000\n",
       "mean       80.476386\n",
       "std       111.258028\n",
       "min         3.000000\n",
       "25%        21.000000\n",
       "50%        39.000000\n",
       "75%        93.000000\n",
       "max      1227.000000\n",
       "Name: Count, dtype: float64"
      ]
     },
     "metadata": {},
     "output_type": "display_data"
    }
   ],
   "source": [
    "groups = X_training.groupby('userId')['movieId'].count()\n",
    "groups_df = pd.DataFrame({'userId':groups.index, 'Count':groups.values})\n",
    "\n",
    "display(groups_df['Count'].describe())"
   ]
  },
  {
   "cell_type": "markdown",
   "id": "95f8e61d",
   "metadata": {},
   "source": [
    "As a check, I found user 327 to have watched the most movies at 1227 movies. This user could be a bot or machine that was watching movies continuously and rating it. \n"
   ]
  },
  {
   "cell_type": "code",
   "execution_count": 114,
   "id": "1379bcfd",
   "metadata": {},
   "outputs": [
    {
     "data": {
      "text/plain": [
       "327    1227\n",
       "Name: Count, dtype: int64"
      ]
     },
     "metadata": {},
     "output_type": "display_data"
    }
   ],
   "source": [
    "# check the id with largest count\n",
    "display(groups_df['Count'].loc[groups_df['Count'] == 1227])"
   ]
  },
  {
   "cell_type": "markdown",
   "id": "d9a0291f",
   "metadata": {},
   "source": [
    "Even though this outlier could skew the data, I still decided to keep this user because this would help us understand the dataset better from a larger perspective.\n",
    "Basically, I wanted to keep as many users as possible even if they bots or machines because they are still part of the observation within the population.\n"
   ]
  },
  {
   "cell_type": "markdown",
   "id": "a940cadd",
   "metadata": {},
   "source": [
    "I also plotted a histogram of the distributions to visualize better. The distribution seems to be at a negative exponential graph.\n"
   ]
  },
  {
   "cell_type": "code",
   "execution_count": 115,
   "id": "22bd1ac4",
   "metadata": {
    "scrolled": true
   },
   "outputs": [
    {
     "data": {
      "image/png": "[encoded data removed]",
      "text/plain": [
       "<Figure size 432x288 with 1 Axes>"
      ]
     },
     "metadata": {
      "needs_background": "light"
     },
     "output_type": "display_data"
    }
   ],
   "source": [
    "plt.hist(groups_df['Count'].values, bins = 50, edgecolor = 'black')\n",
    "plt.ylabel('Frequency')\n",
    "plt.xlabel('Number of movies watched by 1 user');"
   ]
  },
  {
   "cell_type": "markdown",
   "id": "d03fcef3",
   "metadata": {},
   "source": [
    "# Build The graph"
   ]
  },
  {
   "cell_type": "markdown",
   "id": "fb8452ad",
   "metadata": {},
   "source": [
    "Now that I have the total users and total movies, I can visualize which users watched which movies by building a bipartite graph with nodes. A bipartite graph is a set of graph decomposed into two sets, and nodes of one set are connected with nodes from the other set. Generally, the edges or lines signify the link from user to movie."
   ]
  },
  {
   "cell_type": "markdown",
   "id": "2cc529ad",
   "metadata": {},
   "source": [
    "A sparse matrix is a matrix composed mostly of zeros, with a number signaling the rating a user gave when watching that specific movie.\n",
    "Since its very hard to display this large matrix, I set W to show user and movie respectively in a tuple, along with the corresponding rating"
   ]
  },
  {
   "cell_type": "markdown",
   "id": "dad1137f",
   "metadata": {},
   "source": [
    "For simplicity, I will define the following:\n",
    "W: sparse matrix of rating\n",
    "G: bipartite graph"
   ]
  },
  {
   "cell_type": "code",
   "execution_count": 116,
   "id": "2f06e6f2",
   "metadata": {},
   "outputs": [
    {
     "name": "stdout",
     "output_type": "stream",
     "text": [
      "Number of training users: 487\n",
      "Number of training movies: 5861\n"
     ]
    }
   ],
   "source": [
    "users = X_training['userId'].unique()\n",
    "movies = X_training['movieId'].unique()\n",
    "print(\"Number of training users:\", len(users))\n",
    "print(\"Number of training movies:\", len(movies))"
   ]
  },
  {
   "cell_type": "code",
   "execution_count": 117,
   "id": "f9105ea1",
   "metadata": {},
   "outputs": [],
   "source": [
    "def build_graph(userId, movieId, rating):\n",
    "    # assign userid and movieid as a list\n",
    "    user_names = sorted(set(userId))\n",
    "    movie_names = sorted(set(movieId))\n",
    "\n",
    "    num_users = len(user_names)\n",
    "    num_movies = len(movie_names)\n",
    "    \n",
    "    # assign nodes as integers\n",
    "    users = np.arange(num_users, dtype=int)\n",
    "    movies = np.arange(num_movies, dtype=int)\n",
    "    \n",
    "    # assign list as dictionary. each key is userid, reference is movieid. each tuples first is key, second is reference\n",
    "    node_of_user = dict(zip(user_names, users))\n",
    "    node_of_movie = dict(zip(movie_names, movies))\n",
    "\n",
    "    # row shows all the key values, column shows all the reference values\n",
    "    row = [node_of_user[user_name] for user_name in userId]\n",
    "    column = [node_of_movie[movie_name] for movie_name in movieId]\n",
    "    \n",
    "    # shows user, movie as tuple and rating as int\n",
    "    W = scipy.sparse.csr_matrix((rating, (row, column)), shape=(num_users, num_movies))\n",
    "    G = from_biadjacency_matrix(W)\n",
    "    \n",
    "    return G, node_of_user, node_of_movie, W"
   ]
  },
  {
   "cell_type": "code",
   "execution_count": 118,
   "id": "26337050",
   "metadata": {
    "scrolled": false
   },
   "outputs": [],
   "source": [
    "G, node_of_user, node_of_movie, W = build_graph(X_training['userId'].values, X_training['movieId'].values, X_training['rating'].values)"
   ]
  },
  {
   "cell_type": "markdown",
   "id": "8eee0190",
   "metadata": {},
   "source": [
    "I can also see the connected components. Here 6348 components are connected together, meaning users are similar to one another"
   ]
  },
  {
   "cell_type": "code",
   "execution_count": 119,
   "id": "02933422",
   "metadata": {
    "scrolled": true
   },
   "outputs": [
    {
     "data": {
      "text/plain": [
       "[6348]"
      ]
     },
     "execution_count": 119,
     "metadata": {},
     "output_type": "execute_result"
    }
   ],
   "source": [
    "[len(c) for c in sorted(nx.connected_components(G), key=len, reverse=True)]"
   ]
  },
  {
   "cell_type": "code",
   "execution_count": 120,
   "id": "57782b7b",
   "metadata": {},
   "outputs": [
    {
     "name": "stdout",
     "output_type": "stream",
     "text": [
      "Number of Nodes: 6348\n",
      "Number of Edges: 39192\n",
      "Is graph bipartite? True\n"
     ]
    }
   ],
   "source": [
    "print(\"Number of Nodes:\", G.number_of_nodes())\n",
    "print(\"Number of Edges:\", G.number_of_edges())\n",
    "print(\"Is graph bipartite?\", bipartite.is_bipartite(G))"
   ]
  },
  {
   "cell_type": "code",
   "execution_count": 121,
   "id": "4a46083b",
   "metadata": {},
   "outputs": [],
   "source": [
    "def bipartite_layout(G, users, movies, align, reverse: bool = False):\n",
    "    \"\"\"Extends networkx's bipartite_layout() to potentially reverse the order of nodes\n",
    "    within a partiton (up-down or left-right flip depending on the value of 'align'.\"\"\"\n",
    "    \n",
    "    pos = nx.drawing.layout.bipartite_layout(G, users, align=align)\n",
    "    if reverse:\n",
    "        pos = dict(\n",
    "            list(zip(users, [pos[k] for k in users][::-1])) + \\\n",
    "            list(zip(movies, [pos[k] for k in movies][::-1]))\n",
    "        )\n",
    "    return pos"
   ]
  },
  {
   "cell_type": "code",
   "execution_count": 122,
   "id": "fc402067",
   "metadata": {},
   "outputs": [],
   "source": [
    "def draw_bipartite_graph(G, node_of_user, node_of_movie):\n",
    "    # length of user, movie list\n",
    "    num_users = len(node_of_user)\n",
    "    num_movies = len(node_of_movie)\n",
    "    \n",
    "    # assigns list of user and movie as a integers. users are 0-3, movies are 4-8\n",
    "    users = np.arange(num_users, dtype=int)\n",
    "    movies = np.arange(num_users, num_users + num_movies, dtype=int)\n",
    "    \n",
    "    # Draws the graph.\n",
    "    pos = bipartite_layout(G, users, movies, align=\"vertical\", reverse=True)\n",
    "\n",
    "    options = {\"edgecolors\": \"tab:gray\", \"node_size\": 200, \"alpha\": 0.9}\n",
    "    nx.draw_networkx_nodes(G, \n",
    "                           dict((k, pos[k]) for k in users),\n",
    "                           nodelist=users, node_color=\"tab:red\", **options)\n",
    "    nx.draw_networkx_nodes(G, \n",
    "                           dict((k, pos[k]) for k in movies),\n",
    "                           nodelist=movies, node_color=\"tab:blue\", **options)\n",
    "    nx.draw_networkx_edges(G, pos, width=3, alpha=0.5)\n",
    "\n",
    "    labels = dict(\n",
    "        [(index, name) for name, index in node_of_user.items()] + \\\n",
    "        [(index, name) for name, index in node_of_movie.items()]\n",
    "    )\n",
    "    nx.draw_networkx_labels(G, pos, labels, font_size=17, font_color=\"whitesmoke\")\n",
    "    plt.tight_layout()\n",
    "    plt.axis(\"off\")\n",
    "    plt.show()"
   ]
  },
  {
   "cell_type": "code",
   "execution_count": 123,
   "id": "c404add0",
   "metadata": {
    "scrolled": true
   },
   "outputs": [
    {
     "data": {
      "image/png": "[encoded data removed]",
      "text/plain": [
       "<Figure size 432x288 with 1 Axes>"
      ]
     },
     "metadata": {},
     "output_type": "display_data"
    }
   ],
   "source": [
    "draw_bipartite_graph(G, node_of_user, node_of_movie)\n"
   ]
  },
  {
   "cell_type": "markdown",
   "id": "17a48848",
   "metadata": {},
   "source": [
    "Unfortunately, I could not properly display the graph because the jupyter notebook could not support such a large graph (there are 6000 nodes and 39 thousand edges). So the best visualization is shown here. But there is not too much information to infer from it \n"
   ]
  },
  {
   "cell_type": "markdown",
   "id": "70905f3d",
   "metadata": {},
   "source": [
    "To solve this, I also tried to include only the first 100 users and at a smaller scale, but producing such a graph would not be meaningful because it would not accurately depict the entire population of users.\n"
   ]
  },
  {
   "cell_type": "markdown",
   "id": "b4cbc9e3",
   "metadata": {},
   "source": [
    "I also tried to visualize using another software called Gephi. While I was able to somewhat succesfully run in Gephi, there were still too many nodes to clearly see and distinguish users.\n"
   ]
  },
  {
   "cell_type": "markdown",
   "id": "5372e53c",
   "metadata": {},
   "source": [
    "# Build Feature Vectors"
   ]
  },
  {
   "cell_type": "markdown",
   "id": "6d746ec1",
   "metadata": {},
   "source": [
    "Overall, the recommender system is composed of three of these next steps: building features, using cosine similarity to get closest nieghbors per user, and clustering together those similar users.\n",
    "The first step is to build feature vectors. There are 3 matrices involved in this first step, which includes matrix multiplication to derive feature vectors.\n"
   ]
  },
  {
   "cell_type": "markdown",
   "id": "3e956caa",
   "metadata": {},
   "source": [
    "First there is a W matrix which has a rows of the user and columns of the movies.\n",
    "Second, a beta matrix which is the feature vectors for each movie. \n",
    "Finally, an alpha matrix which is the feature vectors for each user. "
   ]
  },
  {
   "cell_type": "markdown",
   "id": "ba7fd5b5",
   "metadata": {},
   "source": [
    "Each matricies should ideally have these dimensions:\n",
    "\n",
    "beta: movies * features, \n",
    "W: users * movies, \n",
    "alpha: users * features"
   ]
  },
  {
   "cell_type": "code",
   "execution_count": 124,
   "id": "ad3eb301",
   "metadata": {},
   "outputs": [],
   "source": [
    "def generate_feature_vectors(W: scipy.sparse.csr_matrix, num_features: int, num_iterations: int):\n",
    "    num_users, num_movies = W.shape\n",
    "    users = np.arange(num_users, dtype=int)\n",
    "    movies = np.arange(num_movies, dtype=int)\n",
    "    \n",
    "    np.random.seed(42123)\n",
    "    # Define alpha as a matrix of user feature vectors. Each row is a user vector.\n",
    "    alpha = 2 * np.random.rand(num_users, num_features) - 1\n",
    "    # Normalize rows to unit norm\n",
    "    alpha = alpha / (np.sum(alpha**2, axis = 1) ** 0.5)[:, None]\n",
    "    display(alpha)\n",
    "    # Allocate beta as a matrix of movie feature vectors. Each row is a movie vector.\n",
    "    beta = np.zeros((num_movies, num_features))\n",
    "\n",
    "    for i in range(num_iterations):\n",
    "        beta = np.array((W.T @ alpha) / np.sum(W, axis=0).T)\n",
    "        # Normalize each vector.\n",
    "        beta /= (np.sum(beta ** 2, axis = 1) ** 0.5)[:, None]\n",
    "\n",
    "        alpha = np.array((W @ beta) / np.sum(W, axis=1))\n",
    "        # Normalize each vector.\n",
    "        alpha /= (np.sum(alpha ** 2, axis = 1) ** 0.5)[:, None]\n",
    "\n",
    "    return alpha, beta"
   ]
  },
  {
   "cell_type": "code",
   "execution_count": 125,
   "id": "ee57869b",
   "metadata": {},
   "outputs": [
    {
     "data": {
      "text/plain": [
       "array([[ 0.39 , -0.28 ,  0.171, ...,  0.364, -0.336, -0.276],\n",
       "       [-0.535, -0.331,  0.184, ...,  0.209,  0.23 ,  0.338],\n",
       "       [ 0.476,  0.142, -0.177, ...,  0.045,  0.377, -0.305],\n",
       "       ...,\n",
       "       [ 0.111, -0.298,  0.515, ...,  0.499,  0.262, -0.345],\n",
       "       [-0.13 ,  0.049, -0.123, ..., -0.378, -0.331,  0.168],\n",
       "       [ 0.218, -0.161, -0.557, ...,  0.453, -0.212,  0.068]])"
      ]
     },
     "metadata": {},
     "output_type": "display_data"
    }
   ],
   "source": [
    "num_features = 10\n",
    "num_iterations = 2\n",
    "\n",
    "alpha, beta = generate_feature_vectors(W, num_features, num_iterations)"
   ]
  },
  {
   "cell_type": "markdown",
   "id": "0ddb8d42",
   "metadata": {},
   "source": [
    "So a feature is a numerical property of a particular user. For the alpha and beta matrix, I decided to use 10 features, which is randomly generated from -1 and 1. Here you can see the starting values for the alpha matrix. This is where I set the ititial values for alpha. "
   ]
  },
  {
   "cell_type": "code",
   "execution_count": 126,
   "id": "ab92a074",
   "metadata": {},
   "outputs": [
    {
     "name": "stdout",
     "output_type": "stream",
     "text": [
      "(487, 10)\n"
     ]
    }
   ],
   "source": [
    "print(alpha.shape)"
   ]
  },
  {
   "cell_type": "markdown",
   "id": "09343ab8",
   "metadata": {},
   "source": [
    "You can see that its dimensions are 487 by 10, where 487 is for each row of user and 10 coumns per feature. Each row is also normalized, meaning the sum of every row is 1. This keeps all of the rows consistent."
   ]
  },
  {
   "cell_type": "markdown",
   "id": "0455038c",
   "metadata": {},
   "source": [
    "### Matrix Multiplication"
   ]
  },
  {
   "cell_type": "markdown",
   "id": "1381117f",
   "metadata": {},
   "source": [
    "In the function above, I came up with features with matrix multiplication for each user using an iterative process with the following steps: In the first step, I calculated the beta matrix by multiplying the transpose of W with Alpha, which has set initial values. Originally, W’s dimensions were (Users times Movies). But now since this is transpose, the dimensions are now Movies times users. "
   ]
  },
  {
   "cell_type": "markdown",
   "id": "4e27aaa6",
   "metadata": {},
   "source": [
    "So when I multiply W of T with alpha, this gives us a beta matrix of movie vectors. Then, movies times users mutiplied by users times features gives us movies times features. This here is the beta matrix which has 5861 rows for each movie and 10 columns for each feature"
   ]
  },
  {
   "cell_type": "code",
   "execution_count": 127,
   "id": "a44ddb73",
   "metadata": {},
   "outputs": [
    {
     "data": {
      "text/plain": [
       "array([[ 0.266,  0.472,  0.171, ..., -0.049, -0.094, -0.039],\n",
       "       [ 0.334,  0.382,  0.092, ..., -0.157, -0.063,  0.018],\n",
       "       [ 0.171,  0.3  , -0.017, ..., -0.248, -0.136,  0.09 ],\n",
       "       ...,\n",
       "       [-0.072, -0.36 , -0.311, ..., -0.149, -0.45 , -0.486],\n",
       "       [-0.072, -0.36 , -0.311, ..., -0.149, -0.45 , -0.486],\n",
       "       [ 0.018,  0.601,  0.319, ..., -0.024, -0.256, -0.039]])"
      ]
     },
     "metadata": {},
     "output_type": "display_data"
    },
    {
     "name": "stdout",
     "output_type": "stream",
     "text": [
      "(5861, 10)\n"
     ]
    }
   ],
   "source": [
    "display(beta)\n",
    "print(beta.shape)"
   ]
  },
  {
   "cell_type": "markdown",
   "id": "e69603a8",
   "metadata": {},
   "source": [
    "Now I want to update our alpha matrix. The reason I want to do this is so alpha is no longer a random vector. Alpha’s vector values will be updated for each user using information from the W matrix. I can update alpha by mutliplying W with our newly defined beta matrix\n"
   ]
  },
  {
   "cell_type": "markdown",
   "id": "52844bc7",
   "metadata": {},
   "source": [
    "This corresponds to a W dimension of users times movies multiplied with a beta dimension of movies times features, giving us once again an alpha dimension of users time features. Below the alpha matrix has 487 rows for each user and 10 columns for each feature."
   ]
  },
  {
   "cell_type": "code",
   "execution_count": 128,
   "id": "44f739cb",
   "metadata": {},
   "outputs": [
    {
     "data": {
      "text/plain": [
       "array([[ 0.341,  0.548,  0.103, ...,  0.109, -0.203, -0.202],\n",
       "       [-0.386, -0.092,  0.227, ...,  0.517,  0.143,  0.153],\n",
       "       [ 0.336,  0.556,  0.178, ...,  0.063, -0.264, -0.268],\n",
       "       ...,\n",
       "       [ 0.247,  0.559,  0.109, ...,  0.123, -0.099, -0.221],\n",
       "       [ 0.281,  0.56 ,  0.206, ..., -0.086, -0.209, -0.048],\n",
       "       [ 0.235,  0.521, -0.075, ...,  0.168, -0.221, -0.171]])"
      ]
     },
     "metadata": {},
     "output_type": "display_data"
    },
    {
     "name": "stdout",
     "output_type": "stream",
     "text": [
      "(487, 10)\n"
     ]
    }
   ],
   "source": [
    "display(alpha)\n",
    "print(alpha.shape)"
   ]
  },
  {
   "cell_type": "markdown",
   "id": "31a4806a",
   "metadata": {},
   "source": [
    "# Investigate Properties of Random Walk"
   ]
  },
  {
   "cell_type": "code",
   "execution_count": 129,
   "id": "8925427c",
   "metadata": {
    "scrolled": false
   },
   "outputs": [],
   "source": [
    "alpha_df = pd.DataFrame(alpha)\n",
    "alpha_df = alpha_df.rename(columns=lambda x: x+ 1)\n",
    "alpha_df = alpha_df.set_index(X_training['userId'].unique(), drop=False).rename_axis(None)\n",
    "\n",
    "beta_df = pd.DataFrame(beta)\n",
    "beta_df = beta_df.rename(columns=lambda x: x + 1)\n",
    "beta_df = beta_df.set_index(X_training['movieId'].unique(), drop=False).rename_axis(None)"
   ]
  },
  {
   "cell_type": "code",
   "execution_count": 131,
   "id": "ac2f71a8",
   "metadata": {
    "scrolled": true
   },
   "outputs": [
    {
     "data": {
      "image/png": "[encoded data removed]",
      "text/plain": [
       "<Figure size 864x360 with 2 Axes>"
      ]
     },
     "metadata": {
      "needs_background": "light"
     },
     "output_type": "display_data"
    }
   ],
   "source": [
    "# Bar graphs of alpha and beta variance and standard deviations vs. # iterations.\n",
    "fig, axs = plt.subplots(1, 2, figsize=(12, 5))\n",
    "num_types = 2\n",
    "\n",
    "bar_labels = [str(i+1) for i in range(len(features))]\n",
    "transforms = (np.var, np.std)\n",
    "transform_labels = ('variance', 'standard deviation')\n",
    "\n",
    "for transform, ax, transform_label in zip(transforms, axs, transform_labels):\n",
    "    feature_values = [[np.mean(transform(feature[i], axis=0)) for feature in features]\n",
    "                      for i in range(num_types)]\n",
    "    plotdata = pd.DataFrame({\"alpha\": feature_values[0], \"beta\": feature_values[1]}, index=bar_labels)\n",
    "    plotdata.plot(kind = \"bar\", edgecolor = \"black\", ax=ax)\n",
    "\n",
    "    ax.set_title(f'{transform_label} of alpha/beta per iteration')    \n",
    "    ax.set_xlabel('Number of iterations')\n",
    "    ax.set_ylabel(f'{transform_label}');"
   ]
  },
  {
   "cell_type": "markdown",
   "id": "c659fa7c",
   "metadata": {},
   "source": [
    "From the bar plot, variance for both alpha and beta decreased over increased iterations. With more iterations, the features will converge because the features are learning more and more about which users are similar to other users hence the change in numbers."
   ]
  },
  {
   "cell_type": "markdown",
   "id": "417c79e1",
   "metadata": {},
   "source": [
    "I need to limit iterations or else the users then will become so similar that I won’t be able to differentiable any of them. In otherwords, I dont want alpha features to converge because otherwise I lose information about what makes each user unique. "
   ]
  },
  {
   "cell_type": "markdown",
   "id": "e9b68036",
   "metadata": {},
   "source": [
    "From the graph, it appears for alpha, there is huge drop off at the second iteration. As a result, I will choose to set the number of iterations at 2 because that is the least amount of visible variance. That is why in the previous section the number of iterations is set at 2 when building feature vectors with alpha/beta.\n"
   ]
  },
  {
   "cell_type": "markdown",
   "id": "4b41a7a8",
   "metadata": {},
   "source": [
    "# Calculate User Similarity"
   ]
  },
  {
   "cell_type": "markdown",
   "id": "cd5f1cac",
   "metadata": {},
   "source": [
    "Now going to step 2, which is calculating user similarity, or each users' closest neighbor. I am going to use features from the alpha matrix to come up with a similarity index. I will use cosine similarity to determine the closest distance of every user. \n"
   ]
  },
  {
   "cell_type": "markdown",
   "id": "3e697e3e",
   "metadata": {},
   "source": [
    "Cosine similarity measures the cosine of the angle between two vectors and determines how much the two vectors are similar. This is the matrix of cosine similarity for each user. As you can see, the 0.00 represents distance to itself meaning there is no distance."
   ]
  },
  {
   "cell_type": "code",
   "execution_count": 132,
   "id": "851ef811",
   "metadata": {},
   "outputs": [
    {
     "data": {
      "text/html": [
       "<div>\n",
       "<style scoped>\n",
       "    .dataframe tbody tr th:only-of-type {\n",
       "        vertical-align: middle;\n",
       "    }\n",
       "\n",
       "    .dataframe tbody tr th {\n",
       "        vertical-align: top;\n",
       "    }\n",
       "\n",
       "    .dataframe thead th {\n",
       "        text-align: right;\n",
       "    }\n",
       "</style>\n",
       "<table border=\"1\" class=\"dataframe\">\n",
       "  <thead>\n",
       "    <tr style=\"text-align: right;\">\n",
       "      <th></th>\n",
       "      <th>0</th>\n",
       "      <th>1</th>\n",
       "      <th>2</th>\n",
       "      <th>3</th>\n",
       "      <th>4</th>\n",
       "      <th>5</th>\n",
       "      <th>6</th>\n",
       "      <th>7</th>\n",
       "      <th>8</th>\n",
       "      <th>9</th>\n",
       "      <th>...</th>\n",
       "      <th>477</th>\n",
       "      <th>478</th>\n",
       "      <th>479</th>\n",
       "      <th>480</th>\n",
       "      <th>481</th>\n",
       "      <th>482</th>\n",
       "      <th>483</th>\n",
       "      <th>484</th>\n",
       "      <th>485</th>\n",
       "      <th>486</th>\n",
       "    </tr>\n",
       "  </thead>\n",
       "  <tbody>\n",
       "    <tr>\n",
       "      <th>0</th>\n",
       "      <td>0.000000</td>\n",
       "      <td>1.046449</td>\n",
       "      <td>0.029192</td>\n",
       "      <td>0.049678</td>\n",
       "      <td>0.227659</td>\n",
       "      <td>0.068352</td>\n",
       "      <td>0.019818</td>\n",
       "      <td>0.054576</td>\n",
       "      <td>0.119532</td>\n",
       "      <td>0.014339</td>\n",
       "      <td>...</td>\n",
       "      <td>0.034463</td>\n",
       "      <td>0.054588</td>\n",
       "      <td>0.093999</td>\n",
       "      <td>0.149135</td>\n",
       "      <td>0.064104</td>\n",
       "      <td>1.250356e-01</td>\n",
       "      <td>2.960138e-02</td>\n",
       "      <td>1.687099e-02</td>\n",
       "      <td>6.039497e-02</td>\n",
       "      <td>0.054235</td>\n",
       "    </tr>\n",
       "    <tr>\n",
       "      <th>1</th>\n",
       "      <td>1.046449</td>\n",
       "      <td>0.000000</td>\n",
       "      <td>1.139650</td>\n",
       "      <td>0.981120</td>\n",
       "      <td>0.909858</td>\n",
       "      <td>0.996987</td>\n",
       "      <td>0.934154</td>\n",
       "      <td>0.986184</td>\n",
       "      <td>0.938079</td>\n",
       "      <td>1.079488</td>\n",
       "      <td>...</td>\n",
       "      <td>1.040307</td>\n",
       "      <td>0.985171</td>\n",
       "      <td>1.147665</td>\n",
       "      <td>0.926858</td>\n",
       "      <td>0.890652</td>\n",
       "      <td>8.267555e-01</td>\n",
       "      <td>9.588006e-01</td>\n",
       "      <td>1.023787e+00</td>\n",
       "      <td>1.059975e+00</td>\n",
       "      <td>1.132563</td>\n",
       "    </tr>\n",
       "    <tr>\n",
       "      <th>2</th>\n",
       "      <td>0.029192</td>\n",
       "      <td>1.139650</td>\n",
       "      <td>0.000000</td>\n",
       "      <td>0.083609</td>\n",
       "      <td>0.307385</td>\n",
       "      <td>0.133441</td>\n",
       "      <td>0.054430</td>\n",
       "      <td>0.125334</td>\n",
       "      <td>0.163714</td>\n",
       "      <td>0.053089</td>\n",
       "      <td>...</td>\n",
       "      <td>0.093029</td>\n",
       "      <td>0.106648</td>\n",
       "      <td>0.034429</td>\n",
       "      <td>0.210677</td>\n",
       "      <td>0.149186</td>\n",
       "      <td>1.255342e-01</td>\n",
       "      <td>7.140358e-02</td>\n",
       "      <td>6.203736e-02</td>\n",
       "      <td>1.095677e-01</td>\n",
       "      <td>0.113671</td>\n",
       "    </tr>\n",
       "    <tr>\n",
       "      <th>3</th>\n",
       "      <td>0.049678</td>\n",
       "      <td>0.981120</td>\n",
       "      <td>0.083609</td>\n",
       "      <td>0.000000</td>\n",
       "      <td>0.085507</td>\n",
       "      <td>0.014450</td>\n",
       "      <td>0.037760</td>\n",
       "      <td>0.018543</td>\n",
       "      <td>0.031504</td>\n",
       "      <td>0.057314</td>\n",
       "      <td>...</td>\n",
       "      <td>0.061839</td>\n",
       "      <td>0.005444</td>\n",
       "      <td>0.113734</td>\n",
       "      <td>0.038786</td>\n",
       "      <td>0.048843</td>\n",
       "      <td>1.581068e-01</td>\n",
       "      <td>3.203774e-02</td>\n",
       "      <td>8.073928e-02</td>\n",
       "      <td>1.785042e-02</td>\n",
       "      <td>0.134321</td>\n",
       "    </tr>\n",
       "    <tr>\n",
       "      <th>4</th>\n",
       "      <td>0.227659</td>\n",
       "      <td>0.909858</td>\n",
       "      <td>0.307385</td>\n",
       "      <td>0.085507</td>\n",
       "      <td>0.000000</td>\n",
       "      <td>0.058022</td>\n",
       "      <td>0.188192</td>\n",
       "      <td>0.072366</td>\n",
       "      <td>0.058596</td>\n",
       "      <td>0.213826</td>\n",
       "      <td>...</td>\n",
       "      <td>0.202465</td>\n",
       "      <td>0.070341</td>\n",
       "      <td>0.320698</td>\n",
       "      <td>0.015934</td>\n",
       "      <td>0.125704</td>\n",
       "      <td>3.399343e-01</td>\n",
       "      <td>1.403764e-01</td>\n",
       "      <td>2.660960e-01</td>\n",
       "      <td>9.811542e-02</td>\n",
       "      <td>0.318814</td>\n",
       "    </tr>\n",
       "    <tr>\n",
       "      <th>...</th>\n",
       "      <td>...</td>\n",
       "      <td>...</td>\n",
       "      <td>...</td>\n",
       "      <td>...</td>\n",
       "      <td>...</td>\n",
       "      <td>...</td>\n",
       "      <td>...</td>\n",
       "      <td>...</td>\n",
       "      <td>...</td>\n",
       "      <td>...</td>\n",
       "      <td>...</td>\n",
       "      <td>...</td>\n",
       "      <td>...</td>\n",
       "      <td>...</td>\n",
       "      <td>...</td>\n",
       "      <td>...</td>\n",
       "      <td>...</td>\n",
       "      <td>...</td>\n",
       "      <td>...</td>\n",
       "      <td>...</td>\n",
       "      <td>...</td>\n",
       "    </tr>\n",
       "    <tr>\n",
       "      <th>482</th>\n",
       "      <td>0.125036</td>\n",
       "      <td>0.826756</td>\n",
       "      <td>0.125534</td>\n",
       "      <td>0.158107</td>\n",
       "      <td>0.339934</td>\n",
       "      <td>0.218223</td>\n",
       "      <td>0.067152</td>\n",
       "      <td>0.195344</td>\n",
       "      <td>0.187657</td>\n",
       "      <td>0.165200</td>\n",
       "      <td>...</td>\n",
       "      <td>0.168036</td>\n",
       "      <td>0.194662</td>\n",
       "      <td>0.184409</td>\n",
       "      <td>0.276556</td>\n",
       "      <td>0.234027</td>\n",
       "      <td>-2.220446e-16</td>\n",
       "      <td>1.234822e-01</td>\n",
       "      <td>1.517956e-01</td>\n",
       "      <td>2.142208e-01</td>\n",
       "      <td>0.215493</td>\n",
       "    </tr>\n",
       "    <tr>\n",
       "      <th>483</th>\n",
       "      <td>0.029601</td>\n",
       "      <td>0.958801</td>\n",
       "      <td>0.071404</td>\n",
       "      <td>0.032038</td>\n",
       "      <td>0.140376</td>\n",
       "      <td>0.043145</td>\n",
       "      <td>0.020006</td>\n",
       "      <td>0.029316</td>\n",
       "      <td>0.053055</td>\n",
       "      <td>0.034893</td>\n",
       "      <td>...</td>\n",
       "      <td>0.069214</td>\n",
       "      <td>0.033774</td>\n",
       "      <td>0.138547</td>\n",
       "      <td>0.080259</td>\n",
       "      <td>0.063157</td>\n",
       "      <td>1.234822e-01</td>\n",
       "      <td>1.110223e-16</td>\n",
       "      <td>6.256445e-02</td>\n",
       "      <td>6.236485e-02</td>\n",
       "      <td>0.115190</td>\n",
       "    </tr>\n",
       "    <tr>\n",
       "      <th>484</th>\n",
       "      <td>0.016871</td>\n",
       "      <td>1.023787</td>\n",
       "      <td>0.062037</td>\n",
       "      <td>0.080739</td>\n",
       "      <td>0.266096</td>\n",
       "      <td>0.091535</td>\n",
       "      <td>0.046230</td>\n",
       "      <td>0.069860</td>\n",
       "      <td>0.174314</td>\n",
       "      <td>0.011879</td>\n",
       "      <td>...</td>\n",
       "      <td>0.015299</td>\n",
       "      <td>0.079721</td>\n",
       "      <td>0.147243</td>\n",
       "      <td>0.181918</td>\n",
       "      <td>0.056218</td>\n",
       "      <td>1.517956e-01</td>\n",
       "      <td>6.256445e-02</td>\n",
       "      <td>-2.220446e-16</td>\n",
       "      <td>7.585639e-02</td>\n",
       "      <td>0.039982</td>\n",
       "    </tr>\n",
       "    <tr>\n",
       "      <th>485</th>\n",
       "      <td>0.060395</td>\n",
       "      <td>1.059975</td>\n",
       "      <td>0.109568</td>\n",
       "      <td>0.017850</td>\n",
       "      <td>0.098115</td>\n",
       "      <td>0.011000</td>\n",
       "      <td>0.065242</td>\n",
       "      <td>0.021663</td>\n",
       "      <td>0.059856</td>\n",
       "      <td>0.060374</td>\n",
       "      <td>...</td>\n",
       "      <td>0.052141</td>\n",
       "      <td>0.010285</td>\n",
       "      <td>0.154397</td>\n",
       "      <td>0.054381</td>\n",
       "      <td>0.044418</td>\n",
       "      <td>2.142208e-01</td>\n",
       "      <td>6.236485e-02</td>\n",
       "      <td>7.585639e-02</td>\n",
       "      <td>-2.220446e-16</td>\n",
       "      <td>0.116950</td>\n",
       "    </tr>\n",
       "    <tr>\n",
       "      <th>486</th>\n",
       "      <td>0.054235</td>\n",
       "      <td>1.132563</td>\n",
       "      <td>0.113671</td>\n",
       "      <td>0.134321</td>\n",
       "      <td>0.318814</td>\n",
       "      <td>0.138699</td>\n",
       "      <td>0.096690</td>\n",
       "      <td>0.105555</td>\n",
       "      <td>0.211305</td>\n",
       "      <td>0.056045</td>\n",
       "      <td>...</td>\n",
       "      <td>0.050630</td>\n",
       "      <td>0.131723</td>\n",
       "      <td>0.194401</td>\n",
       "      <td>0.252256</td>\n",
       "      <td>0.119602</td>\n",
       "      <td>2.154935e-01</td>\n",
       "      <td>1.151900e-01</td>\n",
       "      <td>3.998228e-02</td>\n",
       "      <td>1.169496e-01</td>\n",
       "      <td>0.000000</td>\n",
       "    </tr>\n",
       "  </tbody>\n",
       "</table>\n",
       "<p>487 rows × 487 columns</p>\n",
       "</div>"
      ],
      "text/plain": [
       "          0         1         2         3         4         5         6    \\\n",
       "0    0.000000  1.046449  0.029192  0.049678  0.227659  0.068352  0.019818   \n",
       "1    1.046449  0.000000  1.139650  0.981120  0.909858  0.996987  0.934154   \n",
       "2    0.029192  1.139650  0.000000  0.083609  0.307385  0.133441  0.054430   \n",
       "3    0.049678  0.981120  0.083609  0.000000  0.085507  0.014450  0.037760   \n",
       "4    0.227659  0.909858  0.307385  0.085507  0.000000  0.058022  0.188192   \n",
       "..        ...       ...       ...       ...       ...       ...       ...   \n",
       "482  0.125036  0.826756  0.125534  0.158107  0.339934  0.218223  0.067152   \n",
       "483  0.029601  0.958801  0.071404  0.032038  0.140376  0.043145  0.020006   \n",
       "484  0.016871  1.023787  0.062037  0.080739  0.266096  0.091535  0.046230   \n",
       "485  0.060395  1.059975  0.109568  0.017850  0.098115  0.011000  0.065242   \n",
       "486  0.054235  1.132563  0.113671  0.134321  0.318814  0.138699  0.096690   \n",
       "\n",
       "          7         8         9    ...       477       478       479  \\\n",
       "0    0.054576  0.119532  0.014339  ...  0.034463  0.054588  0.093999   \n",
       "1    0.986184  0.938079  1.079488  ...  1.040307  0.985171  1.147665   \n",
       "2    0.125334  0.163714  0.053089  ...  0.093029  0.106648  0.034429   \n",
       "3    0.018543  0.031504  0.057314  ...  0.061839  0.005444  0.113734   \n",
       "4    0.072366  0.058596  0.213826  ...  0.202465  0.070341  0.320698   \n",
       "..        ...       ...       ...  ...       ...       ...       ...   \n",
       "482  0.195344  0.187657  0.165200  ...  0.168036  0.194662  0.184409   \n",
       "483  0.029316  0.053055  0.034893  ...  0.069214  0.033774  0.138547   \n",
       "484  0.069860  0.174314  0.011879  ...  0.015299  0.079721  0.147243   \n",
       "485  0.021663  0.059856  0.060374  ...  0.052141  0.010285  0.154397   \n",
       "486  0.105555  0.211305  0.056045  ...  0.050630  0.131723  0.194401   \n",
       "\n",
       "          480       481           482           483           484  \\\n",
       "0    0.149135  0.064104  1.250356e-01  2.960138e-02  1.687099e-02   \n",
       "1    0.926858  0.890652  8.267555e-01  9.588006e-01  1.023787e+00   \n",
       "2    0.210677  0.149186  1.255342e-01  7.140358e-02  6.203736e-02   \n",
       "3    0.038786  0.048843  1.581068e-01  3.203774e-02  8.073928e-02   \n",
       "4    0.015934  0.125704  3.399343e-01  1.403764e-01  2.660960e-01   \n",
       "..        ...       ...           ...           ...           ...   \n",
       "482  0.276556  0.234027 -2.220446e-16  1.234822e-01  1.517956e-01   \n",
       "483  0.080259  0.063157  1.234822e-01  1.110223e-16  6.256445e-02   \n",
       "484  0.181918  0.056218  1.517956e-01  6.256445e-02 -2.220446e-16   \n",
       "485  0.054381  0.044418  2.142208e-01  6.236485e-02  7.585639e-02   \n",
       "486  0.252256  0.119602  2.154935e-01  1.151900e-01  3.998228e-02   \n",
       "\n",
       "              485       486  \n",
       "0    6.039497e-02  0.054235  \n",
       "1    1.059975e+00  1.132563  \n",
       "2    1.095677e-01  0.113671  \n",
       "3    1.785042e-02  0.134321  \n",
       "4    9.811542e-02  0.318814  \n",
       "..            ...       ...  \n",
       "482  2.142208e-01  0.215493  \n",
       "483  6.236485e-02  0.115190  \n",
       "484  7.585639e-02  0.039982  \n",
       "485 -2.220446e-16  0.116950  \n",
       "486  1.169496e-01  0.000000  \n",
       "\n",
       "[487 rows x 487 columns]"
      ]
     },
     "metadata": {},
     "output_type": "display_data"
    }
   ],
   "source": [
    "# calculate cosine distance in dataframe\n",
    "cosine_df = 1-pd.DataFrame(cosine_similarity(alpha))\n",
    "display(cosine_df)"
   ]
  },
  {
   "cell_type": "code",
   "execution_count": 133,
   "id": "80129bac",
   "metadata": {},
   "outputs": [
    {
     "data": {
      "text/html": [
       "<div>\n",
       "<style scoped>\n",
       "    .dataframe tbody tr th:only-of-type {\n",
       "        vertical-align: middle;\n",
       "    }\n",
       "\n",
       "    .dataframe tbody tr th {\n",
       "        vertical-align: top;\n",
       "    }\n",
       "\n",
       "    .dataframe thead th {\n",
       "        text-align: right;\n",
       "    }\n",
       "</style>\n",
       "<table border=\"1\" class=\"dataframe\">\n",
       "  <thead>\n",
       "    <tr style=\"text-align: right;\">\n",
       "      <th></th>\n",
       "      <th>index</th>\n",
       "      <th>Closest index</th>\n",
       "      <th>2nd index</th>\n",
       "      <th>3rd index</th>\n",
       "      <th>4th index</th>\n",
       "    </tr>\n",
       "  </thead>\n",
       "  <tbody>\n",
       "    <tr>\n",
       "      <th>0</th>\n",
       "      <td>0</td>\n",
       "      <td>0</td>\n",
       "      <td>58</td>\n",
       "      <td>148</td>\n",
       "      <td>435</td>\n",
       "    </tr>\n",
       "    <tr>\n",
       "      <th>1</th>\n",
       "      <td>1</td>\n",
       "      <td>1</td>\n",
       "      <td>120</td>\n",
       "      <td>75</td>\n",
       "      <td>279</td>\n",
       "    </tr>\n",
       "    <tr>\n",
       "      <th>2</th>\n",
       "      <td>2</td>\n",
       "      <td>2</td>\n",
       "      <td>323</td>\n",
       "      <td>401</td>\n",
       "      <td>87</td>\n",
       "    </tr>\n",
       "    <tr>\n",
       "      <th>3</th>\n",
       "      <td>3</td>\n",
       "      <td>3</td>\n",
       "      <td>94</td>\n",
       "      <td>348</td>\n",
       "      <td>292</td>\n",
       "    </tr>\n",
       "    <tr>\n",
       "      <th>4</th>\n",
       "      <td>4</td>\n",
       "      <td>4</td>\n",
       "      <td>360</td>\n",
       "      <td>480</td>\n",
       "      <td>465</td>\n",
       "    </tr>\n",
       "    <tr>\n",
       "      <th>...</th>\n",
       "      <td>...</td>\n",
       "      <td>...</td>\n",
       "      <td>...</td>\n",
       "      <td>...</td>\n",
       "      <td>...</td>\n",
       "    </tr>\n",
       "    <tr>\n",
       "      <th>482</th>\n",
       "      <td>482</td>\n",
       "      <td>482</td>\n",
       "      <td>306</td>\n",
       "      <td>62</td>\n",
       "      <td>40</td>\n",
       "    </tr>\n",
       "    <tr>\n",
       "      <th>483</th>\n",
       "      <td>483</td>\n",
       "      <td>483</td>\n",
       "      <td>98</td>\n",
       "      <td>32</td>\n",
       "      <td>196</td>\n",
       "    </tr>\n",
       "    <tr>\n",
       "      <th>484</th>\n",
       "      <td>484</td>\n",
       "      <td>484</td>\n",
       "      <td>411</td>\n",
       "      <td>461</td>\n",
       "      <td>135</td>\n",
       "    </tr>\n",
       "    <tr>\n",
       "      <th>485</th>\n",
       "      <td>485</td>\n",
       "      <td>485</td>\n",
       "      <td>221</td>\n",
       "      <td>310</td>\n",
       "      <td>141</td>\n",
       "    </tr>\n",
       "    <tr>\n",
       "      <th>486</th>\n",
       "      <td>486</td>\n",
       "      <td>486</td>\n",
       "      <td>277</td>\n",
       "      <td>419</td>\n",
       "      <td>44</td>\n",
       "    </tr>\n",
       "  </tbody>\n",
       "</table>\n",
       "<p>487 rows × 5 columns</p>\n",
       "</div>"
      ],
      "text/plain": [
       "     index  Closest index  2nd index  3rd index  4th index\n",
       "0        0              0         58        148        435\n",
       "1        1              1        120         75        279\n",
       "2        2              2        323        401         87\n",
       "3        3              3         94        348        292\n",
       "4        4              4        360        480        465\n",
       "..     ...            ...        ...        ...        ...\n",
       "482    482            482        306         62         40\n",
       "483    483            483         98         32        196\n",
       "484    484            484        411        461        135\n",
       "485    485            485        221        310        141\n",
       "486    486            486        277        419         44\n",
       "\n",
       "[487 rows x 5 columns]"
      ]
     },
     "metadata": {},
     "output_type": "display_data"
    },
    {
     "data": {
      "text/html": [
       "<div>\n",
       "<style scoped>\n",
       "    .dataframe tbody tr th:only-of-type {\n",
       "        vertical-align: middle;\n",
       "    }\n",
       "\n",
       "    .dataframe tbody tr th {\n",
       "        vertical-align: top;\n",
       "    }\n",
       "\n",
       "    .dataframe thead th {\n",
       "        text-align: right;\n",
       "    }\n",
       "</style>\n",
       "<table border=\"1\" class=\"dataframe\">\n",
       "  <thead>\n",
       "    <tr style=\"text-align: right;\">\n",
       "      <th></th>\n",
       "      <th>Closest index</th>\n",
       "      <th>2nd index</th>\n",
       "      <th>3rd index</th>\n",
       "      <th>4th index</th>\n",
       "    </tr>\n",
       "  </thead>\n",
       "  <tbody>\n",
       "    <tr>\n",
       "      <th>0</th>\n",
       "      <td>0.000000e+00</td>\n",
       "      <td>0.002848</td>\n",
       "      <td>0.003322</td>\n",
       "      <td>0.004326</td>\n",
       "    </tr>\n",
       "    <tr>\n",
       "      <th>1</th>\n",
       "      <td>0.000000e+00</td>\n",
       "      <td>0.664554</td>\n",
       "      <td>0.677063</td>\n",
       "      <td>0.709256</td>\n",
       "    </tr>\n",
       "    <tr>\n",
       "      <th>2</th>\n",
       "      <td>0.000000e+00</td>\n",
       "      <td>0.004243</td>\n",
       "      <td>0.004858</td>\n",
       "      <td>0.005304</td>\n",
       "    </tr>\n",
       "    <tr>\n",
       "      <th>3</th>\n",
       "      <td>0.000000e+00</td>\n",
       "      <td>0.002494</td>\n",
       "      <td>0.002537</td>\n",
       "      <td>0.003242</td>\n",
       "    </tr>\n",
       "    <tr>\n",
       "      <th>4</th>\n",
       "      <td>0.000000e+00</td>\n",
       "      <td>0.013429</td>\n",
       "      <td>0.015934</td>\n",
       "      <td>0.016104</td>\n",
       "    </tr>\n",
       "    <tr>\n",
       "      <th>...</th>\n",
       "      <td>...</td>\n",
       "      <td>...</td>\n",
       "      <td>...</td>\n",
       "      <td>...</td>\n",
       "    </tr>\n",
       "    <tr>\n",
       "      <th>482</th>\n",
       "      <td>-2.220446e-16</td>\n",
       "      <td>0.044287</td>\n",
       "      <td>0.044953</td>\n",
       "      <td>0.046822</td>\n",
       "    </tr>\n",
       "    <tr>\n",
       "      <th>483</th>\n",
       "      <td>1.110223e-16</td>\n",
       "      <td>0.012000</td>\n",
       "      <td>0.012334</td>\n",
       "      <td>0.012709</td>\n",
       "    </tr>\n",
       "    <tr>\n",
       "      <th>484</th>\n",
       "      <td>-2.220446e-16</td>\n",
       "      <td>0.003885</td>\n",
       "      <td>0.005952</td>\n",
       "      <td>0.006448</td>\n",
       "    </tr>\n",
       "    <tr>\n",
       "      <th>485</th>\n",
       "      <td>-2.220446e-16</td>\n",
       "      <td>0.008854</td>\n",
       "      <td>0.008856</td>\n",
       "      <td>0.009792</td>\n",
       "    </tr>\n",
       "    <tr>\n",
       "      <th>486</th>\n",
       "      <td>0.000000e+00</td>\n",
       "      <td>0.027227</td>\n",
       "      <td>0.027283</td>\n",
       "      <td>0.031252</td>\n",
       "    </tr>\n",
       "  </tbody>\n",
       "</table>\n",
       "<p>487 rows × 4 columns</p>\n",
       "</div>"
      ],
      "text/plain": [
       "     Closest index  2nd index  3rd index  4th index\n",
       "0     0.000000e+00   0.002848   0.003322   0.004326\n",
       "1     0.000000e+00   0.664554   0.677063   0.709256\n",
       "2     0.000000e+00   0.004243   0.004858   0.005304\n",
       "3     0.000000e+00   0.002494   0.002537   0.003242\n",
       "4     0.000000e+00   0.013429   0.015934   0.016104\n",
       "..             ...        ...        ...        ...\n",
       "482  -2.220446e-16   0.044287   0.044953   0.046822\n",
       "483   1.110223e-16   0.012000   0.012334   0.012709\n",
       "484  -2.220446e-16   0.003885   0.005952   0.006448\n",
       "485  -2.220446e-16   0.008854   0.008856   0.009792\n",
       "486   0.000000e+00   0.027227   0.027283   0.031252\n",
       "\n",
       "[487 rows x 4 columns]"
      ]
     },
     "metadata": {},
     "output_type": "display_data"
    }
   ],
   "source": [
    "closest_indexes = pd.DataFrame(cosine_df.columns.values[np.argsort(cosine_df.values, axis = 1)[:, :4]], \n",
    "            index=cosine_df.index, \n",
    "            columns = ['Closest index', '2nd index', '3rd index', '4th index']).reset_index()\n",
    "c = ['Closest index', '2nd index', '3rd index', '4th index']\n",
    "closest_distance = cosine_df.apply(lambda x: pd.Series(x.nsmallest(4).values, index = c), axis = 1)\n",
    "display(closest_indexes)\n",
    "display(closest_distance)"
   ]
  },
  {
   "cell_type": "code",
   "execution_count": 134,
   "id": "fcffd26e",
   "metadata": {
    "scrolled": true
   },
   "outputs": [
    {
     "data": {
      "text/plain": [
       "0      0.000000\n",
       "58     0.002848\n",
       "148    0.003322\n",
       "435    0.004326\n",
       "Name: 0, dtype: float64"
      ]
     },
     "execution_count": 134,
     "metadata": {},
     "output_type": "execute_result"
    }
   ],
   "source": [
    "cosine_df.loc[0, :].nsmallest(4)"
   ]
  },
  {
   "cell_type": "markdown",
   "id": "5b95ac4a",
   "metadata": {},
   "source": [
    "Next I want to find the closest index for each user as determined by the cosine similarity matrix. On top shows the distance by the closest, 2nd-closest, 3rd, 4th index. Below that shows what index the closest neighbor was. As a check, I will use the 0th user and make sure distance and index match up, which they do\n"
   ]
  },
  {
   "cell_type": "markdown",
   "id": "c26aeb8e",
   "metadata": {},
   "source": [
    "# Clustering"
   ]
  },
  {
   "cell_type": "markdown",
   "id": "1f72359a",
   "metadata": {},
   "source": [
    "Now that I have users and their closest neighbors, the third step is to cluster together similar users. But I need to find out how many clusters to generate. So, I can use the kneelocator from the kneed package that will show a vertical line, or k, which is the optimal number of clusters.\n"
   ]
  },
  {
   "cell_type": "markdown",
   "id": "f0cc55c2",
   "metadata": {},
   "source": [
    "Kneelocator uses silhouette scores which measure the goodness of a clustering technique. Here I generated the silhouette score from 2 to 20 clusters. Each cluster is shown on the x-axis and on the y-axis, the silhouette score is matched appropriately. "
   ]
  },
  {
   "cell_type": "code",
   "execution_count": 28,
   "id": "f579444e",
   "metadata": {},
   "outputs": [],
   "source": [
    "def kneelocator(matrix):\n",
    "    sil_avg = []\n",
    "    range_n_clusters = np.arange(2,20)\n",
    "    for k in range_n_clusters:\n",
    "        kmeans = KMeans(n_clusters = k).fit(matrix)\n",
    "        labels = kmeans.labels_\n",
    "        sil_avg.append(silhouette_score(matrix, labels, metric = \"euclidean\"))\n",
    "        \n",
    "    kn = KneeLocator(range_n_clusters, sil_avg , curve='convex', direction='decreasing')\n",
    "    plt.plot(range_n_clusters, sil_avg, 'bx-')\n",
    "    plt.title('Silhouette analysis for optimal k')\n",
    "    plt.vlines(kn.knee, plt.ylim()[0], plt.ylim()[1], linestyles='dashed')\n",
    "    plt.xticks(np.arange(1, 20, 1))\n",
    "    plt.xlabel(\"# of Clusters\")\n",
    "    plt.ylabel('Siloutte Score')\n",
    "    plt.show()"
   ]
  },
  {
   "cell_type": "code",
   "execution_count": 29,
   "id": "58054f99",
   "metadata": {},
   "outputs": [
    {
     "data": {
      "image/png": "[encoded data removed]",
      "text/plain": [
       "<Figure size 432x288 with 1 Axes>"
      ]
     },
     "metadata": {
      "needs_background": "light"
     },
     "output_type": "display_data"
    }
   ],
   "source": [
    "kneelocator(alpha)"
   ]
  },
  {
   "cell_type": "markdown",
   "id": "c6ef545d",
   "metadata": {},
   "source": [
    "From the score, the optimal value is at 4 clusters. So, I will assign the 4 clusters to each user using kmeans which is measuring how many of the users belong in each cluster, which is calculated based on each cluster's center, meaning the cluster’s center is determined and users who are closest to a one of the 4 cluster centers is classified in that cluster"
   ]
  },
  {
   "cell_type": "code",
   "execution_count": 86,
   "id": "766c06df",
   "metadata": {
    "scrolled": true
   },
   "outputs": [],
   "source": [
    "def find_cluster(matrix, num_clusters):\n",
    "    kmeans = KMeans(n_clusters= num_clusters, init = 'k-means++', random_state = 55).fit(matrix)\n",
    "    print(np.array(kmeans.labels_))\n",
    "    alpha_df['clusters'] = kmeans.labels_\n",
    "    print(alpha_df['clusters'].value_counts())\n",
    "    return kmeans"
   ]
  },
  {
   "cell_type": "code",
   "execution_count": 87,
   "id": "46dc16bc",
   "metadata": {
    "scrolled": true
   },
   "outputs": [
    {
     "name": "stdout",
     "output_type": "stream",
     "text": [
      "[3 0 1 0 0 0 3 0 0 3 0 2 1 3 3 3 3 2 3 1 2 0 3 2 0 0 1 0 1 0 0 3 3 0 3 3 0 2 3 2 1 1 2 0 3 0 1 0 1\n",
      " 3 3 2 3 3 2 3 2 2 3 1 0 2 1 3 3 2 1 2 0 2 3 1 2 1 3 1 1 1 2 0 0 3 3 3 2 0 0 1 0 3 3 1 0 3 0 1 2 1\n",
      " 3 0 0 3 2 3 3 1 1 2 0 1 3 3 0 1 1 3 2 0 2 3 0 0 2 3 0 1 3 2 1 3 2 3 3 3 3 3 1 0 0 3 3 0 0 0 0 2 3\n",
      " 0 3 1 3 1 3 3 1 1 1 0 3 1 2 3 1 2 1 2 3 2 0 3 2 2 2 3 3 1 1 1 3 1 3 3 3 2 3 0 2 3 3 3 1 1 3 0 1 0\n",
      " 3 1 2 2 3 3 2 3 3 2 3 2 2 1 0 3 0 3 1 3 1 0 0 1 2 0 1 0 0 1 3 0 1 3 3 1 2 3 1 3 1 3 0 3 0 3 2 3 1\n",
      " 1 3 0 1 3 3 2 2 2 0 3 3 1 1 2 3 3 2 1 3 1 0 2 3 2 1 0 3 2 0 3 3 3 3 0 3 1 2 3 2 2 3 1 3 3 3 3 0 0\n",
      " 3 3 1 0 3 2 2 3 1 0 1 0 3 1 3 2 0 0 3 3 3 2 0 3 0 3 0 2 2 1 0 1 2 3 1 1 3 3 3 1 1 3 3 0 3 1 3 3 2\n",
      " 1 3 3 2 3 0 0 1 3 3 0 3 3 1 0 0 3 0 2 2 3 1 2 0 1 0 2 3 3 0 3 1 3 1 2 2 0 3 3 3 2 0 3 3 2 1 3 0 1\n",
      " 3 0 1 1 3 3 2 0 2 1 2 0 3 2 3 2 3 2 0 3 2 3 3 2 0 0 3 3 1 0 2 0 2 3 0 3 2 0 1 1 3 2 2 3 3 3 2 0 3\n",
      " 0 3 3 2 2 0 0 1 1 0 3 1 1 2 0 3 1 1 2 0 3 2 2 0 0 3 2 1 3 1 3 0 1 3 1 3 2 0 1 0 0 1 3 3 0 3]\n",
      "3    178\n",
      "0    111\n",
      "1    103\n",
      "2     95\n",
      "Name: clusters, dtype: int64\n"
     ]
    },
    {
     "data": {
      "text/plain": [
       "KMeans(n_clusters=4, random_state=55)"
      ]
     },
     "execution_count": 87,
     "metadata": {},
     "output_type": "execute_result"
    }
   ],
   "source": [
    "# assign each training user to one of the 4 clusters\n",
    "kmeans = find_cluster(alpha, 4)\n",
    "kmeans"
   ]
  },
  {
   "cell_type": "markdown",
   "id": "f8aebafe",
   "metadata": {},
   "source": [
    "Here we can see most users belong in cluster 3."
   ]
  },
  {
   "cell_type": "code",
   "execution_count": 88,
   "id": "4c2f8f54",
   "metadata": {},
   "outputs": [
    {
     "data": {
      "image/png": "[encoded data removed]",
      "text/plain": [
       "<Figure size 720x360 with 1 Axes>"
      ]
     },
     "metadata": {
      "needs_background": "light"
     },
     "output_type": "display_data"
    }
   ],
   "source": [
    "fig, axs = plt.subplots(figsize=(10, 5))\n",
    "for k, d in alpha_df.groupby('clusters'):\n",
    "    axs.scatter(d.iloc[:, 1], d.iloc[:, 2], label = k, s = 30)\n",
    "axs.grid(True)\n",
    "plt.legend(loc = 2)\n",
    "plt.xlabel('first feature column')\n",
    "plt.ylabel('second feature column')\n",
    "plt.show()"
   ]
  },
  {
   "cell_type": "markdown",
   "id": "e12ff5a5",
   "metadata": {},
   "source": [
    "To visualize the clusters assigned, I will plot each user in a scatterplot. I defined the x-axis as the first column of the alpha matrix (which is the 1st feature) and the y-axis as the second column (which is the 2nd feature). I chose to do so with the 1st and 2nd features because I couldnt plot all 10 features.\n"
   ]
  },
  {
   "cell_type": "markdown",
   "id": "8454aa10",
   "metadata": {},
   "source": [
    "From the scatterplot, it appears the clustering is somewhat accurate and consistent. The users in red seem to be together with other reds. The same for green. Blues seems to be on the lower values in the first feature, and orange is less consistent."
   ]
  },
  {
   "cell_type": "markdown",
   "id": "5618aae1",
   "metadata": {},
   "source": [
    "# Testing/Validation Data"
   ]
  },
  {
   "cell_type": "markdown",
   "id": "4bd939d9",
   "metadata": {},
   "source": [
    "Going back to the training and testing split, I will now use the testing data. I will repeat the process from the training data but now use it on the testing data. For consistency, I again set number of features as 10 and number of iterations as 2, and converted matrices into dataframes appropriately.\n"
   ]
  },
  {
   "cell_type": "markdown",
   "id": "25f33eca",
   "metadata": {},
   "source": [
    "Once I have a matrix of testing users, I can recommend for a random user, such as user 9 of the testing set. But first I need to detmerine which cluster user 9 is in. So I will repeat the steps before by using kmeans and assigning into 4 clusters. I will see that user 9 is in cluster 3. As such, I'll filter from the testing set to find all users belonging in cluster 3.\n"
   ]
  },
  {
   "cell_type": "code",
   "execution_count": 89,
   "id": "0e94fc35",
   "metadata": {},
   "outputs": [
    {
     "data": {
      "text/plain": [
       "array([[ 0.39 , -0.28 ,  0.171, ...,  0.364, -0.336, -0.276],\n",
       "       [-0.535, -0.331,  0.184, ...,  0.209,  0.23 ,  0.338],\n",
       "       [ 0.476,  0.142, -0.177, ...,  0.045,  0.377, -0.305],\n",
       "       ...,\n",
       "       [-0.158, -0.306, -0.17 , ...,  0.284, -0.319,  0.375],\n",
       "       [-0.199, -0.45 ,  0.145, ...,  0.483,  0.23 ,  0.384],\n",
       "       [ 0.385, -0.176, -0.024, ..., -0.383, -0.463, -0.29 ]])"
      ]
     },
     "metadata": {},
     "output_type": "display_data"
    }
   ],
   "source": [
    "G, node_of_user, node_of_movie, W_test = build_graph(X_testing['userId'].values, X_testing['movieId'].values, X_testing['rating'].values)\n",
    "num_features = 10 \n",
    "num_iterations = 2\n",
    "alpha_test, beta_test = generate_feature_vectors(W_test, num_features, num_iterations)"
   ]
  },
  {
   "cell_type": "code",
   "execution_count": 90,
   "id": "974165f7",
   "metadata": {
    "scrolled": true
   },
   "outputs": [
    {
     "data": {
      "text/html": [
       "<div>\n",
       "<style scoped>\n",
       "    .dataframe tbody tr th:only-of-type {\n",
       "        vertical-align: middle;\n",
       "    }\n",
       "\n",
       "    .dataframe tbody tr th {\n",
       "        vertical-align: top;\n",
       "    }\n",
       "\n",
       "    .dataframe thead th {\n",
       "        text-align: right;\n",
       "    }\n",
       "</style>\n",
       "<table border=\"1\" class=\"dataframe\">\n",
       "  <thead>\n",
       "    <tr style=\"text-align: right;\">\n",
       "      <th></th>\n",
       "      <th>1</th>\n",
       "      <th>2</th>\n",
       "      <th>3</th>\n",
       "      <th>4</th>\n",
       "      <th>5</th>\n",
       "      <th>6</th>\n",
       "      <th>7</th>\n",
       "      <th>8</th>\n",
       "      <th>9</th>\n",
       "      <th>10</th>\n",
       "    </tr>\n",
       "  </thead>\n",
       "  <tbody>\n",
       "    <tr>\n",
       "      <th>1</th>\n",
       "      <td>0.089913</td>\n",
       "      <td>0.057992</td>\n",
       "      <td>0.789298</td>\n",
       "      <td>-0.292353</td>\n",
       "      <td>-0.118204</td>\n",
       "      <td>0.001816</td>\n",
       "      <td>-0.453094</td>\n",
       "      <td>0.211980</td>\n",
       "      <td>-0.123935</td>\n",
       "      <td>-0.022938</td>\n",
       "    </tr>\n",
       "    <tr>\n",
       "      <th>6</th>\n",
       "      <td>-0.293781</td>\n",
       "      <td>0.125239</td>\n",
       "      <td>0.571495</td>\n",
       "      <td>-0.512533</td>\n",
       "      <td>0.136742</td>\n",
       "      <td>0.153983</td>\n",
       "      <td>-0.217606</td>\n",
       "      <td>0.283472</td>\n",
       "      <td>0.170727</td>\n",
       "      <td>0.330826</td>\n",
       "    </tr>\n",
       "    <tr>\n",
       "      <th>9</th>\n",
       "      <td>0.355301</td>\n",
       "      <td>0.305709</td>\n",
       "      <td>0.497688</td>\n",
       "      <td>-0.137773</td>\n",
       "      <td>0.084363</td>\n",
       "      <td>0.397130</td>\n",
       "      <td>-0.427989</td>\n",
       "      <td>0.283570</td>\n",
       "      <td>0.274103</td>\n",
       "      <td>-0.100396</td>\n",
       "    </tr>\n",
       "    <tr>\n",
       "      <th>23</th>\n",
       "      <td>-0.235739</td>\n",
       "      <td>0.271507</td>\n",
       "      <td>0.649755</td>\n",
       "      <td>-0.461580</td>\n",
       "      <td>0.101755</td>\n",
       "      <td>0.093597</td>\n",
       "      <td>-0.242534</td>\n",
       "      <td>0.181787</td>\n",
       "      <td>0.137121</td>\n",
       "      <td>0.325096</td>\n",
       "    </tr>\n",
       "    <tr>\n",
       "      <th>26</th>\n",
       "      <td>-0.481435</td>\n",
       "      <td>-0.014447</td>\n",
       "      <td>0.428063</td>\n",
       "      <td>-0.533069</td>\n",
       "      <td>0.168779</td>\n",
       "      <td>0.188033</td>\n",
       "      <td>-0.155406</td>\n",
       "      <td>0.163137</td>\n",
       "      <td>0.108874</td>\n",
       "      <td>0.417314</td>\n",
       "    </tr>\n",
       "    <tr>\n",
       "      <th>...</th>\n",
       "      <td>...</td>\n",
       "      <td>...</td>\n",
       "      <td>...</td>\n",
       "      <td>...</td>\n",
       "      <td>...</td>\n",
       "      <td>...</td>\n",
       "      <td>...</td>\n",
       "      <td>...</td>\n",
       "      <td>...</td>\n",
       "      <td>...</td>\n",
       "    </tr>\n",
       "    <tr>\n",
       "      <th>588</th>\n",
       "      <td>-0.487735</td>\n",
       "      <td>0.251685</td>\n",
       "      <td>0.296637</td>\n",
       "      <td>-0.508418</td>\n",
       "      <td>0.136554</td>\n",
       "      <td>0.193173</td>\n",
       "      <td>-0.061339</td>\n",
       "      <td>0.394462</td>\n",
       "      <td>0.101378</td>\n",
       "      <td>0.355927</td>\n",
       "    </tr>\n",
       "    <tr>\n",
       "      <th>591</th>\n",
       "      <td>-0.487485</td>\n",
       "      <td>0.193705</td>\n",
       "      <td>0.435799</td>\n",
       "      <td>-0.498657</td>\n",
       "      <td>0.025277</td>\n",
       "      <td>0.272273</td>\n",
       "      <td>-0.194233</td>\n",
       "      <td>0.250957</td>\n",
       "      <td>0.119974</td>\n",
       "      <td>0.310461</td>\n",
       "    </tr>\n",
       "    <tr>\n",
       "      <th>592</th>\n",
       "      <td>-0.348315</td>\n",
       "      <td>0.142318</td>\n",
       "      <td>0.543307</td>\n",
       "      <td>-0.485701</td>\n",
       "      <td>0.144147</td>\n",
       "      <td>0.100630</td>\n",
       "      <td>-0.186776</td>\n",
       "      <td>0.287190</td>\n",
       "      <td>0.183031</td>\n",
       "      <td>0.381530</td>\n",
       "    </tr>\n",
       "    <tr>\n",
       "      <th>596</th>\n",
       "      <td>-0.458453</td>\n",
       "      <td>-0.080531</td>\n",
       "      <td>0.457871</td>\n",
       "      <td>-0.378874</td>\n",
       "      <td>0.068085</td>\n",
       "      <td>0.118362</td>\n",
       "      <td>-0.172764</td>\n",
       "      <td>0.302461</td>\n",
       "      <td>0.266692</td>\n",
       "      <td>0.468022</td>\n",
       "    </tr>\n",
       "    <tr>\n",
       "      <th>597</th>\n",
       "      <td>0.159171</td>\n",
       "      <td>0.161176</td>\n",
       "      <td>0.612206</td>\n",
       "      <td>-0.426326</td>\n",
       "      <td>0.344315</td>\n",
       "      <td>0.468764</td>\n",
       "      <td>-0.046463</td>\n",
       "      <td>-0.069696</td>\n",
       "      <td>-0.215939</td>\n",
       "      <td>0.014124</td>\n",
       "    </tr>\n",
       "  </tbody>\n",
       "</table>\n",
       "<p>122 rows × 10 columns</p>\n",
       "</div>"
      ],
      "text/plain": [
       "           1         2         3         4         5         6         7   \\\n",
       "1    0.089913  0.057992  0.789298 -0.292353 -0.118204  0.001816 -0.453094   \n",
       "6   -0.293781  0.125239  0.571495 -0.512533  0.136742  0.153983 -0.217606   \n",
       "9    0.355301  0.305709  0.497688 -0.137773  0.084363  0.397130 -0.427989   \n",
       "23  -0.235739  0.271507  0.649755 -0.461580  0.101755  0.093597 -0.242534   \n",
       "26  -0.481435 -0.014447  0.428063 -0.533069  0.168779  0.188033 -0.155406   \n",
       "..        ...       ...       ...       ...       ...       ...       ...   \n",
       "588 -0.487735  0.251685  0.296637 -0.508418  0.136554  0.193173 -0.061339   \n",
       "591 -0.487485  0.193705  0.435799 -0.498657  0.025277  0.272273 -0.194233   \n",
       "592 -0.348315  0.142318  0.543307 -0.485701  0.144147  0.100630 -0.186776   \n",
       "596 -0.458453 -0.080531  0.457871 -0.378874  0.068085  0.118362 -0.172764   \n",
       "597  0.159171  0.161176  0.612206 -0.426326  0.344315  0.468764 -0.046463   \n",
       "\n",
       "           8         9         10  \n",
       "1    0.211980 -0.123935 -0.022938  \n",
       "6    0.283472  0.170727  0.330826  \n",
       "9    0.283570  0.274103 -0.100396  \n",
       "23   0.181787  0.137121  0.325096  \n",
       "26   0.163137  0.108874  0.417314  \n",
       "..        ...       ...       ...  \n",
       "588  0.394462  0.101378  0.355927  \n",
       "591  0.250957  0.119974  0.310461  \n",
       "592  0.287190  0.183031  0.381530  \n",
       "596  0.302461  0.266692  0.468022  \n",
       "597 -0.069696 -0.215939  0.014124  \n",
       "\n",
       "[122 rows x 10 columns]"
      ]
     },
     "execution_count": 90,
     "metadata": {},
     "output_type": "execute_result"
    }
   ],
   "source": [
    "# convert to a dataframe\n",
    "alpha_df_test = pd.DataFrame(alpha_test)\n",
    "alpha_df_test = alpha_df_test.rename(columns=lambda x: x+ 1)\n",
    "alpha_df_test = alpha_df_test.set_index(X_testing['userId'].unique(), drop=False).rename_axis(None)\n",
    "alpha_df_test"
   ]
  },
  {
   "cell_type": "markdown",
   "id": "68687a9a",
   "metadata": {},
   "source": [
    "## Test on a random user"
   ]
  },
  {
   "cell_type": "code",
   "execution_count": 91,
   "id": "91d71fc5",
   "metadata": {},
   "outputs": [
    {
     "name": "stdout",
     "output_type": "stream",
     "text": [
      "0    60\n",
      "1    23\n",
      "3    22\n",
      "2    17\n",
      "Name: clusters, dtype: int64\n"
     ]
    },
    {
     "data": {
      "text/html": [
       "<div>\n",
       "<style scoped>\n",
       "    .dataframe tbody tr th:only-of-type {\n",
       "        vertical-align: middle;\n",
       "    }\n",
       "\n",
       "    .dataframe tbody tr th {\n",
       "        vertical-align: top;\n",
       "    }\n",
       "\n",
       "    .dataframe thead th {\n",
       "        text-align: right;\n",
       "    }\n",
       "</style>\n",
       "<table border=\"1\" class=\"dataframe\">\n",
       "  <thead>\n",
       "    <tr style=\"text-align: right;\">\n",
       "      <th></th>\n",
       "      <th>1</th>\n",
       "      <th>2</th>\n",
       "      <th>3</th>\n",
       "      <th>4</th>\n",
       "      <th>5</th>\n",
       "      <th>6</th>\n",
       "      <th>7</th>\n",
       "      <th>8</th>\n",
       "      <th>9</th>\n",
       "      <th>10</th>\n",
       "      <th>clusters</th>\n",
       "    </tr>\n",
       "  </thead>\n",
       "  <tbody>\n",
       "    <tr>\n",
       "      <th>1</th>\n",
       "      <td>0.089913</td>\n",
       "      <td>0.057992</td>\n",
       "      <td>0.789298</td>\n",
       "      <td>-0.292353</td>\n",
       "      <td>-0.118204</td>\n",
       "      <td>0.001816</td>\n",
       "      <td>-0.453094</td>\n",
       "      <td>0.211980</td>\n",
       "      <td>-0.123935</td>\n",
       "      <td>-0.022938</td>\n",
       "      <td>3</td>\n",
       "    </tr>\n",
       "    <tr>\n",
       "      <th>6</th>\n",
       "      <td>-0.293781</td>\n",
       "      <td>0.125239</td>\n",
       "      <td>0.571495</td>\n",
       "      <td>-0.512533</td>\n",
       "      <td>0.136742</td>\n",
       "      <td>0.153983</td>\n",
       "      <td>-0.217606</td>\n",
       "      <td>0.283472</td>\n",
       "      <td>0.170727</td>\n",
       "      <td>0.330826</td>\n",
       "      <td>0</td>\n",
       "    </tr>\n",
       "    <tr>\n",
       "      <th>9</th>\n",
       "      <td>0.355301</td>\n",
       "      <td>0.305709</td>\n",
       "      <td>0.497688</td>\n",
       "      <td>-0.137773</td>\n",
       "      <td>0.084363</td>\n",
       "      <td>0.397130</td>\n",
       "      <td>-0.427989</td>\n",
       "      <td>0.283570</td>\n",
       "      <td>0.274103</td>\n",
       "      <td>-0.100396</td>\n",
       "      <td>3</td>\n",
       "    </tr>\n",
       "    <tr>\n",
       "      <th>23</th>\n",
       "      <td>-0.235739</td>\n",
       "      <td>0.271507</td>\n",
       "      <td>0.649755</td>\n",
       "      <td>-0.461580</td>\n",
       "      <td>0.101755</td>\n",
       "      <td>0.093597</td>\n",
       "      <td>-0.242534</td>\n",
       "      <td>0.181787</td>\n",
       "      <td>0.137121</td>\n",
       "      <td>0.325096</td>\n",
       "      <td>0</td>\n",
       "    </tr>\n",
       "    <tr>\n",
       "      <th>26</th>\n",
       "      <td>-0.481435</td>\n",
       "      <td>-0.014447</td>\n",
       "      <td>0.428063</td>\n",
       "      <td>-0.533069</td>\n",
       "      <td>0.168779</td>\n",
       "      <td>0.188033</td>\n",
       "      <td>-0.155406</td>\n",
       "      <td>0.163137</td>\n",
       "      <td>0.108874</td>\n",
       "      <td>0.417314</td>\n",
       "      <td>2</td>\n",
       "    </tr>\n",
       "    <tr>\n",
       "      <th>...</th>\n",
       "      <td>...</td>\n",
       "      <td>...</td>\n",
       "      <td>...</td>\n",
       "      <td>...</td>\n",
       "      <td>...</td>\n",
       "      <td>...</td>\n",
       "      <td>...</td>\n",
       "      <td>...</td>\n",
       "      <td>...</td>\n",
       "      <td>...</td>\n",
       "      <td>...</td>\n",
       "    </tr>\n",
       "    <tr>\n",
       "      <th>588</th>\n",
       "      <td>-0.487735</td>\n",
       "      <td>0.251685</td>\n",
       "      <td>0.296637</td>\n",
       "      <td>-0.508418</td>\n",
       "      <td>0.136554</td>\n",
       "      <td>0.193173</td>\n",
       "      <td>-0.061339</td>\n",
       "      <td>0.394462</td>\n",
       "      <td>0.101378</td>\n",
       "      <td>0.355927</td>\n",
       "      <td>1</td>\n",
       "    </tr>\n",
       "    <tr>\n",
       "      <th>591</th>\n",
       "      <td>-0.487485</td>\n",
       "      <td>0.193705</td>\n",
       "      <td>0.435799</td>\n",
       "      <td>-0.498657</td>\n",
       "      <td>0.025277</td>\n",
       "      <td>0.272273</td>\n",
       "      <td>-0.194233</td>\n",
       "      <td>0.250957</td>\n",
       "      <td>0.119974</td>\n",
       "      <td>0.310461</td>\n",
       "      <td>1</td>\n",
       "    </tr>\n",
       "    <tr>\n",
       "      <th>592</th>\n",
       "      <td>-0.348315</td>\n",
       "      <td>0.142318</td>\n",
       "      <td>0.543307</td>\n",
       "      <td>-0.485701</td>\n",
       "      <td>0.144147</td>\n",
       "      <td>0.100630</td>\n",
       "      <td>-0.186776</td>\n",
       "      <td>0.287190</td>\n",
       "      <td>0.183031</td>\n",
       "      <td>0.381530</td>\n",
       "      <td>0</td>\n",
       "    </tr>\n",
       "    <tr>\n",
       "      <th>596</th>\n",
       "      <td>-0.458453</td>\n",
       "      <td>-0.080531</td>\n",
       "      <td>0.457871</td>\n",
       "      <td>-0.378874</td>\n",
       "      <td>0.068085</td>\n",
       "      <td>0.118362</td>\n",
       "      <td>-0.172764</td>\n",
       "      <td>0.302461</td>\n",
       "      <td>0.266692</td>\n",
       "      <td>0.468022</td>\n",
       "      <td>2</td>\n",
       "    </tr>\n",
       "    <tr>\n",
       "      <th>597</th>\n",
       "      <td>0.159171</td>\n",
       "      <td>0.161176</td>\n",
       "      <td>0.612206</td>\n",
       "      <td>-0.426326</td>\n",
       "      <td>0.344315</td>\n",
       "      <td>0.468764</td>\n",
       "      <td>-0.046463</td>\n",
       "      <td>-0.069696</td>\n",
       "      <td>-0.215939</td>\n",
       "      <td>0.014124</td>\n",
       "      <td>3</td>\n",
       "    </tr>\n",
       "  </tbody>\n",
       "</table>\n",
       "<p>122 rows × 11 columns</p>\n",
       "</div>"
      ],
      "text/plain": [
       "            1         2         3         4         5         6         7  \\\n",
       "1    0.089913  0.057992  0.789298 -0.292353 -0.118204  0.001816 -0.453094   \n",
       "6   -0.293781  0.125239  0.571495 -0.512533  0.136742  0.153983 -0.217606   \n",
       "9    0.355301  0.305709  0.497688 -0.137773  0.084363  0.397130 -0.427989   \n",
       "23  -0.235739  0.271507  0.649755 -0.461580  0.101755  0.093597 -0.242534   \n",
       "26  -0.481435 -0.014447  0.428063 -0.533069  0.168779  0.188033 -0.155406   \n",
       "..        ...       ...       ...       ...       ...       ...       ...   \n",
       "588 -0.487735  0.251685  0.296637 -0.508418  0.136554  0.193173 -0.061339   \n",
       "591 -0.487485  0.193705  0.435799 -0.498657  0.025277  0.272273 -0.194233   \n",
       "592 -0.348315  0.142318  0.543307 -0.485701  0.144147  0.100630 -0.186776   \n",
       "596 -0.458453 -0.080531  0.457871 -0.378874  0.068085  0.118362 -0.172764   \n",
       "597  0.159171  0.161176  0.612206 -0.426326  0.344315  0.468764 -0.046463   \n",
       "\n",
       "            8         9        10  clusters  \n",
       "1    0.211980 -0.123935 -0.022938         3  \n",
       "6    0.283472  0.170727  0.330826         0  \n",
       "9    0.283570  0.274103 -0.100396         3  \n",
       "23   0.181787  0.137121  0.325096         0  \n",
       "26   0.163137  0.108874  0.417314         2  \n",
       "..        ...       ...       ...       ...  \n",
       "588  0.394462  0.101378  0.355927         1  \n",
       "591  0.250957  0.119974  0.310461         1  \n",
       "592  0.287190  0.183031  0.381530         0  \n",
       "596  0.302461  0.266692  0.468022         2  \n",
       "597 -0.069696 -0.215939  0.014124         3  \n",
       "\n",
       "[122 rows x 11 columns]"
      ]
     },
     "metadata": {},
     "output_type": "display_data"
    }
   ],
   "source": [
    "def find_clusters_test(matrix):\n",
    "    kmeans = KMeans(n_clusters=4, init = 'k-means++', random_state = 0).fit(matrix)\n",
    "    clusters = kmeans.predict(matrix)\n",
    "    alpha_df_test['clusters'] = clusters\n",
    "    print(alpha_df_test['clusters'].value_counts())\n",
    "    display(alpha_df_test)\n",
    "find_clusters_test(alpha_test)"
   ]
  },
  {
   "cell_type": "code",
   "execution_count": 92,
   "id": "739904d6",
   "metadata": {},
   "outputs": [
    {
     "data": {
      "text/html": [
       "<div>\n",
       "<style scoped>\n",
       "    .dataframe tbody tr th:only-of-type {\n",
       "        vertical-align: middle;\n",
       "    }\n",
       "\n",
       "    .dataframe tbody tr th {\n",
       "        vertical-align: top;\n",
       "    }\n",
       "\n",
       "    .dataframe thead th {\n",
       "        text-align: right;\n",
       "    }\n",
       "</style>\n",
       "<table border=\"1\" class=\"dataframe\">\n",
       "  <thead>\n",
       "    <tr style=\"text-align: right;\">\n",
       "      <th></th>\n",
       "      <th>1</th>\n",
       "      <th>2</th>\n",
       "      <th>3</th>\n",
       "      <th>4</th>\n",
       "      <th>5</th>\n",
       "      <th>6</th>\n",
       "      <th>7</th>\n",
       "      <th>8</th>\n",
       "      <th>9</th>\n",
       "      <th>10</th>\n",
       "      <th>clusters</th>\n",
       "    </tr>\n",
       "  </thead>\n",
       "  <tbody>\n",
       "    <tr>\n",
       "      <th>0</th>\n",
       "      <td>0.340625</td>\n",
       "      <td>0.548322</td>\n",
       "      <td>0.103323</td>\n",
       "      <td>-0.008999</td>\n",
       "      <td>-0.546314</td>\n",
       "      <td>-0.267611</td>\n",
       "      <td>0.329493</td>\n",
       "      <td>0.109062</td>\n",
       "      <td>-0.203432</td>\n",
       "      <td>-0.201598</td>\n",
       "      <td>3</td>\n",
       "    </tr>\n",
       "    <tr>\n",
       "      <th>8</th>\n",
       "      <td>0.264884</td>\n",
       "      <td>0.593854</td>\n",
       "      <td>0.092224</td>\n",
       "      <td>-0.127431</td>\n",
       "      <td>-0.567245</td>\n",
       "      <td>-0.297217</td>\n",
       "      <td>0.237267</td>\n",
       "      <td>0.087116</td>\n",
       "      <td>-0.248768</td>\n",
       "      <td>-0.128663</td>\n",
       "      <td>3</td>\n",
       "    </tr>\n",
       "    <tr>\n",
       "      <th>12</th>\n",
       "      <td>0.311043</td>\n",
       "      <td>0.562599</td>\n",
       "      <td>0.070191</td>\n",
       "      <td>0.024588</td>\n",
       "      <td>-0.576193</td>\n",
       "      <td>-0.268099</td>\n",
       "      <td>0.372784</td>\n",
       "      <td>0.039920</td>\n",
       "      <td>-0.072080</td>\n",
       "      <td>-0.177682</td>\n",
       "      <td>3</td>\n",
       "    </tr>\n",
       "    <tr>\n",
       "      <th>16</th>\n",
       "      <td>0.281619</td>\n",
       "      <td>0.596597</td>\n",
       "      <td>0.106974</td>\n",
       "      <td>0.003517</td>\n",
       "      <td>-0.548977</td>\n",
       "      <td>-0.281156</td>\n",
       "      <td>0.319960</td>\n",
       "      <td>0.074203</td>\n",
       "      <td>-0.190717</td>\n",
       "      <td>-0.169202</td>\n",
       "      <td>3</td>\n",
       "    </tr>\n",
       "    <tr>\n",
       "      <th>17</th>\n",
       "      <td>0.183439</td>\n",
       "      <td>0.617568</td>\n",
       "      <td>0.115185</td>\n",
       "      <td>0.035073</td>\n",
       "      <td>-0.519069</td>\n",
       "      <td>-0.289915</td>\n",
       "      <td>0.359618</td>\n",
       "      <td>0.028935</td>\n",
       "      <td>-0.198583</td>\n",
       "      <td>-0.217670</td>\n",
       "      <td>3</td>\n",
       "    </tr>\n",
       "    <tr>\n",
       "      <th>...</th>\n",
       "      <td>...</td>\n",
       "      <td>...</td>\n",
       "      <td>...</td>\n",
       "      <td>...</td>\n",
       "      <td>...</td>\n",
       "      <td>...</td>\n",
       "      <td>...</td>\n",
       "      <td>...</td>\n",
       "      <td>...</td>\n",
       "      <td>...</td>\n",
       "      <td>...</td>\n",
       "    </tr>\n",
       "    <tr>\n",
       "      <th>595</th>\n",
       "      <td>0.415701</td>\n",
       "      <td>0.466409</td>\n",
       "      <td>-0.014443</td>\n",
       "      <td>-0.014384</td>\n",
       "      <td>-0.438851</td>\n",
       "      <td>-0.443435</td>\n",
       "      <td>0.371528</td>\n",
       "      <td>0.028199</td>\n",
       "      <td>-0.199468</td>\n",
       "      <td>-0.203468</td>\n",
       "      <td>3</td>\n",
       "    </tr>\n",
       "    <tr>\n",
       "      <th>599</th>\n",
       "      <td>0.294687</td>\n",
       "      <td>0.580448</td>\n",
       "      <td>0.130761</td>\n",
       "      <td>-0.028222</td>\n",
       "      <td>-0.567071</td>\n",
       "      <td>-0.275816</td>\n",
       "      <td>0.234759</td>\n",
       "      <td>0.129242</td>\n",
       "      <td>-0.181110</td>\n",
       "      <td>-0.236820</td>\n",
       "      <td>3</td>\n",
       "    </tr>\n",
       "    <tr>\n",
       "      <th>606</th>\n",
       "      <td>0.337611</td>\n",
       "      <td>0.572400</td>\n",
       "      <td>0.043866</td>\n",
       "      <td>-0.207721</td>\n",
       "      <td>-0.523702</td>\n",
       "      <td>-0.290893</td>\n",
       "      <td>0.343728</td>\n",
       "      <td>0.063070</td>\n",
       "      <td>-0.142689</td>\n",
       "      <td>-0.109254</td>\n",
       "      <td>3</td>\n",
       "    </tr>\n",
       "    <tr>\n",
       "      <th>607</th>\n",
       "      <td>0.247246</td>\n",
       "      <td>0.558516</td>\n",
       "      <td>0.108631</td>\n",
       "      <td>0.095183</td>\n",
       "      <td>-0.571474</td>\n",
       "      <td>-0.311225</td>\n",
       "      <td>0.330140</td>\n",
       "      <td>0.123301</td>\n",
       "      <td>-0.098851</td>\n",
       "      <td>-0.220588</td>\n",
       "      <td>3</td>\n",
       "    </tr>\n",
       "    <tr>\n",
       "      <th>609</th>\n",
       "      <td>0.234931</td>\n",
       "      <td>0.521444</td>\n",
       "      <td>-0.075309</td>\n",
       "      <td>0.212589</td>\n",
       "      <td>-0.498849</td>\n",
       "      <td>-0.315893</td>\n",
       "      <td>0.408917</td>\n",
       "      <td>0.167694</td>\n",
       "      <td>-0.220902</td>\n",
       "      <td>-0.171076</td>\n",
       "      <td>3</td>\n",
       "    </tr>\n",
       "  </tbody>\n",
       "</table>\n",
       "<p>178 rows × 11 columns</p>\n",
       "</div>"
      ],
      "text/plain": [
       "            1         2         3         4         5         6         7  \\\n",
       "0    0.340625  0.548322  0.103323 -0.008999 -0.546314 -0.267611  0.329493   \n",
       "8    0.264884  0.593854  0.092224 -0.127431 -0.567245 -0.297217  0.237267   \n",
       "12   0.311043  0.562599  0.070191  0.024588 -0.576193 -0.268099  0.372784   \n",
       "16   0.281619  0.596597  0.106974  0.003517 -0.548977 -0.281156  0.319960   \n",
       "17   0.183439  0.617568  0.115185  0.035073 -0.519069 -0.289915  0.359618   \n",
       "..        ...       ...       ...       ...       ...       ...       ...   \n",
       "595  0.415701  0.466409 -0.014443 -0.014384 -0.438851 -0.443435  0.371528   \n",
       "599  0.294687  0.580448  0.130761 -0.028222 -0.567071 -0.275816  0.234759   \n",
       "606  0.337611  0.572400  0.043866 -0.207721 -0.523702 -0.290893  0.343728   \n",
       "607  0.247246  0.558516  0.108631  0.095183 -0.571474 -0.311225  0.330140   \n",
       "609  0.234931  0.521444 -0.075309  0.212589 -0.498849 -0.315893  0.408917   \n",
       "\n",
       "            8         9        10  clusters  \n",
       "0    0.109062 -0.203432 -0.201598         3  \n",
       "8    0.087116 -0.248768 -0.128663         3  \n",
       "12   0.039920 -0.072080 -0.177682         3  \n",
       "16   0.074203 -0.190717 -0.169202         3  \n",
       "17   0.028935 -0.198583 -0.217670         3  \n",
       "..        ...       ...       ...       ...  \n",
       "595  0.028199 -0.199468 -0.203468         3  \n",
       "599  0.129242 -0.181110 -0.236820         3  \n",
       "606  0.063070 -0.142689 -0.109254         3  \n",
       "607  0.123301 -0.098851 -0.220588         3  \n",
       "609  0.167694 -0.220902 -0.171076         3  \n",
       "\n",
       "[178 rows x 11 columns]"
      ]
     },
     "execution_count": 92,
     "metadata": {},
     "output_type": "execute_result"
    }
   ],
   "source": [
    "#### Look a cluster 3 of the training set\n",
    "alpha_df_test_user_row = alpha_df_test.loc[9]\n",
    "alpha_df_test_user_cluster = int(alpha_df_test.loc[[9], ['clusters']].values)\n",
    "\n",
    "# training users who belong in the cluster\n",
    "alpha_df_cluster = alpha_df[alpha_df['clusters'] == alpha_df_test_user_cluster]\n",
    "alpha_df_cluster"
   ]
  },
  {
   "cell_type": "code",
   "execution_count": 93,
   "id": "99e69dde",
   "metadata": {
    "scrolled": true
   },
   "outputs": [
    {
     "data": {
      "text/html": [
       "<div>\n",
       "<style scoped>\n",
       "    .dataframe tbody tr th:only-of-type {\n",
       "        vertical-align: middle;\n",
       "    }\n",
       "\n",
       "    .dataframe tbody tr th {\n",
       "        vertical-align: top;\n",
       "    }\n",
       "\n",
       "    .dataframe thead th {\n",
       "        text-align: right;\n",
       "    }\n",
       "</style>\n",
       "<table border=\"1\" class=\"dataframe\">\n",
       "  <thead>\n",
       "    <tr style=\"text-align: right;\">\n",
       "      <th></th>\n",
       "      <th>1</th>\n",
       "      <th>2</th>\n",
       "      <th>3</th>\n",
       "      <th>4</th>\n",
       "      <th>5</th>\n",
       "      <th>6</th>\n",
       "      <th>7</th>\n",
       "      <th>8</th>\n",
       "      <th>9</th>\n",
       "      <th>10</th>\n",
       "      <th>clusters</th>\n",
       "    </tr>\n",
       "  </thead>\n",
       "  <tbody>\n",
       "    <tr>\n",
       "      <th>0</th>\n",
       "      <td>0.340625</td>\n",
       "      <td>0.548322</td>\n",
       "      <td>0.103323</td>\n",
       "      <td>-0.008999</td>\n",
       "      <td>-0.546314</td>\n",
       "      <td>-0.267611</td>\n",
       "      <td>0.329493</td>\n",
       "      <td>0.109062</td>\n",
       "      <td>-0.203432</td>\n",
       "      <td>-0.201598</td>\n",
       "      <td>3.0</td>\n",
       "    </tr>\n",
       "    <tr>\n",
       "      <th>8</th>\n",
       "      <td>0.264884</td>\n",
       "      <td>0.593854</td>\n",
       "      <td>0.092224</td>\n",
       "      <td>-0.127431</td>\n",
       "      <td>-0.567245</td>\n",
       "      <td>-0.297217</td>\n",
       "      <td>0.237267</td>\n",
       "      <td>0.087116</td>\n",
       "      <td>-0.248768</td>\n",
       "      <td>-0.128663</td>\n",
       "      <td>3.0</td>\n",
       "    </tr>\n",
       "    <tr>\n",
       "      <th>12</th>\n",
       "      <td>0.311043</td>\n",
       "      <td>0.562599</td>\n",
       "      <td>0.070191</td>\n",
       "      <td>0.024588</td>\n",
       "      <td>-0.576193</td>\n",
       "      <td>-0.268099</td>\n",
       "      <td>0.372784</td>\n",
       "      <td>0.039920</td>\n",
       "      <td>-0.072080</td>\n",
       "      <td>-0.177682</td>\n",
       "      <td>3.0</td>\n",
       "    </tr>\n",
       "    <tr>\n",
       "      <th>16</th>\n",
       "      <td>0.281619</td>\n",
       "      <td>0.596597</td>\n",
       "      <td>0.106974</td>\n",
       "      <td>0.003517</td>\n",
       "      <td>-0.548977</td>\n",
       "      <td>-0.281156</td>\n",
       "      <td>0.319960</td>\n",
       "      <td>0.074203</td>\n",
       "      <td>-0.190717</td>\n",
       "      <td>-0.169202</td>\n",
       "      <td>3.0</td>\n",
       "    </tr>\n",
       "    <tr>\n",
       "      <th>17</th>\n",
       "      <td>0.183439</td>\n",
       "      <td>0.617568</td>\n",
       "      <td>0.115185</td>\n",
       "      <td>0.035073</td>\n",
       "      <td>-0.519069</td>\n",
       "      <td>-0.289915</td>\n",
       "      <td>0.359618</td>\n",
       "      <td>0.028935</td>\n",
       "      <td>-0.198583</td>\n",
       "      <td>-0.217670</td>\n",
       "      <td>3.0</td>\n",
       "    </tr>\n",
       "    <tr>\n",
       "      <th>...</th>\n",
       "      <td>...</td>\n",
       "      <td>...</td>\n",
       "      <td>...</td>\n",
       "      <td>...</td>\n",
       "      <td>...</td>\n",
       "      <td>...</td>\n",
       "      <td>...</td>\n",
       "      <td>...</td>\n",
       "      <td>...</td>\n",
       "      <td>...</td>\n",
       "      <td>...</td>\n",
       "    </tr>\n",
       "    <tr>\n",
       "      <th>599</th>\n",
       "      <td>0.294687</td>\n",
       "      <td>0.580448</td>\n",
       "      <td>0.130761</td>\n",
       "      <td>-0.028222</td>\n",
       "      <td>-0.567071</td>\n",
       "      <td>-0.275816</td>\n",
       "      <td>0.234759</td>\n",
       "      <td>0.129242</td>\n",
       "      <td>-0.181110</td>\n",
       "      <td>-0.236820</td>\n",
       "      <td>3.0</td>\n",
       "    </tr>\n",
       "    <tr>\n",
       "      <th>606</th>\n",
       "      <td>0.337611</td>\n",
       "      <td>0.572400</td>\n",
       "      <td>0.043866</td>\n",
       "      <td>-0.207721</td>\n",
       "      <td>-0.523702</td>\n",
       "      <td>-0.290893</td>\n",
       "      <td>0.343728</td>\n",
       "      <td>0.063070</td>\n",
       "      <td>-0.142689</td>\n",
       "      <td>-0.109254</td>\n",
       "      <td>3.0</td>\n",
       "    </tr>\n",
       "    <tr>\n",
       "      <th>607</th>\n",
       "      <td>0.247246</td>\n",
       "      <td>0.558516</td>\n",
       "      <td>0.108631</td>\n",
       "      <td>0.095183</td>\n",
       "      <td>-0.571474</td>\n",
       "      <td>-0.311225</td>\n",
       "      <td>0.330140</td>\n",
       "      <td>0.123301</td>\n",
       "      <td>-0.098851</td>\n",
       "      <td>-0.220588</td>\n",
       "      <td>3.0</td>\n",
       "    </tr>\n",
       "    <tr>\n",
       "      <th>609</th>\n",
       "      <td>0.234931</td>\n",
       "      <td>0.521444</td>\n",
       "      <td>-0.075309</td>\n",
       "      <td>0.212589</td>\n",
       "      <td>-0.498849</td>\n",
       "      <td>-0.315893</td>\n",
       "      <td>0.408917</td>\n",
       "      <td>0.167694</td>\n",
       "      <td>-0.220902</td>\n",
       "      <td>-0.171076</td>\n",
       "      <td>3.0</td>\n",
       "    </tr>\n",
       "    <tr>\n",
       "      <th>9</th>\n",
       "      <td>0.355301</td>\n",
       "      <td>0.305709</td>\n",
       "      <td>0.497688</td>\n",
       "      <td>-0.137773</td>\n",
       "      <td>0.084363</td>\n",
       "      <td>0.397130</td>\n",
       "      <td>-0.427989</td>\n",
       "      <td>0.283570</td>\n",
       "      <td>0.274103</td>\n",
       "      <td>-0.100396</td>\n",
       "      <td>3.0</td>\n",
       "    </tr>\n",
       "  </tbody>\n",
       "</table>\n",
       "<p>179 rows × 11 columns</p>\n",
       "</div>"
      ],
      "text/plain": [
       "            1         2         3         4         5         6         7  \\\n",
       "0    0.340625  0.548322  0.103323 -0.008999 -0.546314 -0.267611  0.329493   \n",
       "8    0.264884  0.593854  0.092224 -0.127431 -0.567245 -0.297217  0.237267   \n",
       "12   0.311043  0.562599  0.070191  0.024588 -0.576193 -0.268099  0.372784   \n",
       "16   0.281619  0.596597  0.106974  0.003517 -0.548977 -0.281156  0.319960   \n",
       "17   0.183439  0.617568  0.115185  0.035073 -0.519069 -0.289915  0.359618   \n",
       "..        ...       ...       ...       ...       ...       ...       ...   \n",
       "599  0.294687  0.580448  0.130761 -0.028222 -0.567071 -0.275816  0.234759   \n",
       "606  0.337611  0.572400  0.043866 -0.207721 -0.523702 -0.290893  0.343728   \n",
       "607  0.247246  0.558516  0.108631  0.095183 -0.571474 -0.311225  0.330140   \n",
       "609  0.234931  0.521444 -0.075309  0.212589 -0.498849 -0.315893  0.408917   \n",
       "9    0.355301  0.305709  0.497688 -0.137773  0.084363  0.397130 -0.427989   \n",
       "\n",
       "            8         9        10  clusters  \n",
       "0    0.109062 -0.203432 -0.201598       3.0  \n",
       "8    0.087116 -0.248768 -0.128663       3.0  \n",
       "12   0.039920 -0.072080 -0.177682       3.0  \n",
       "16   0.074203 -0.190717 -0.169202       3.0  \n",
       "17   0.028935 -0.198583 -0.217670       3.0  \n",
       "..        ...       ...       ...       ...  \n",
       "599  0.129242 -0.181110 -0.236820       3.0  \n",
       "606  0.063070 -0.142689 -0.109254       3.0  \n",
       "607  0.123301 -0.098851 -0.220588       3.0  \n",
       "609  0.167694 -0.220902 -0.171076       3.0  \n",
       "9    0.283570  0.274103 -0.100396       3.0  \n",
       "\n",
       "[179 rows x 11 columns]"
      ]
     },
     "execution_count": 93,
     "metadata": {},
     "output_type": "execute_result"
    }
   ],
   "source": [
    "# append row of user 9\n",
    "alpha_df_cluster_with_testing_user = alpha_df_cluster.append(alpha_df_test_user_row)\n",
    "alpha_df_cluster_with_testing_user"
   ]
  },
  {
   "cell_type": "markdown",
   "id": "28216f86",
   "metadata": {},
   "source": [
    "Once I have a matrix of only testing users in cluster 3, I also need to find all users in the same cluster 3 for the training set. Then, I can add the row of the testing user 9 into the same dataframe. I basically will combine user 9's row with the all of training users in cluster 3. Now theres a dataframe of many training users and 1 single testing user. \n"
   ]
  },
  {
   "cell_type": "code",
   "execution_count": 94,
   "id": "c1dc45f9",
   "metadata": {},
   "outputs": [],
   "source": [
    "# Find 5 closest training users to user 9\n",
    "eu_dist_testing = pd.DataFrame(squareform(pdist(alpha_df_cluster_with_testing_user.iloc[:,:10])), \n",
    "                    columns = alpha_df_cluster_with_testing_user.index, index = alpha_df_cluster_with_testing_user.index)"
   ]
  },
  {
   "cell_type": "code",
   "execution_count": 95,
   "id": "12e8d21c",
   "metadata": {},
   "outputs": [],
   "source": [
    "# find 5 closest training user index from the cosine distance matrix\n",
    "closest_testing_indexes = pd.DataFrame(eu_dist_testing.columns.values[\n",
    "    np.argsort(eu_dist_testing.values, axis = 1)[:, :2]], \n",
    "            index=eu_dist_testing.index, \n",
    "            columns = ['Closest user', '2nd user']).reset_index()"
   ]
  },
  {
   "cell_type": "code",
   "execution_count": 96,
   "id": "abf6b4b0",
   "metadata": {},
   "outputs": [
    {
     "data": {
      "text/html": [
       "<div>\n",
       "<style scoped>\n",
       "    .dataframe tbody tr th:only-of-type {\n",
       "        vertical-align: middle;\n",
       "    }\n",
       "\n",
       "    .dataframe tbody tr th {\n",
       "        vertical-align: top;\n",
       "    }\n",
       "\n",
       "    .dataframe thead th {\n",
       "        text-align: right;\n",
       "    }\n",
       "</style>\n",
       "<table border=\"1\" class=\"dataframe\">\n",
       "  <thead>\n",
       "    <tr style=\"text-align: right;\">\n",
       "      <th></th>\n",
       "      <th>Closest user</th>\n",
       "      <th>2nd user</th>\n",
       "    </tr>\n",
       "  </thead>\n",
       "  <tbody>\n",
       "    <tr>\n",
       "      <th>0</th>\n",
       "      <td>0</td>\n",
       "      <td>68</td>\n",
       "    </tr>\n",
       "    <tr>\n",
       "      <th>8</th>\n",
       "      <td>8</td>\n",
       "      <td>487</td>\n",
       "    </tr>\n",
       "    <tr>\n",
       "      <th>12</th>\n",
       "      <td>12</td>\n",
       "      <td>590</td>\n",
       "    </tr>\n",
       "    <tr>\n",
       "      <th>16</th>\n",
       "      <td>16</td>\n",
       "      <td>402</td>\n",
       "    </tr>\n",
       "    <tr>\n",
       "      <th>17</th>\n",
       "      <td>17</td>\n",
       "      <td>102</td>\n",
       "    </tr>\n",
       "    <tr>\n",
       "      <th>...</th>\n",
       "      <td>...</td>\n",
       "      <td>...</td>\n",
       "    </tr>\n",
       "    <tr>\n",
       "      <th>599</th>\n",
       "      <td>599</td>\n",
       "      <td>94</td>\n",
       "    </tr>\n",
       "    <tr>\n",
       "      <th>606</th>\n",
       "      <td>606</td>\n",
       "      <td>114</td>\n",
       "    </tr>\n",
       "    <tr>\n",
       "      <th>607</th>\n",
       "      <td>607</td>\n",
       "      <td>521</td>\n",
       "    </tr>\n",
       "    <tr>\n",
       "      <th>609</th>\n",
       "      <td>609</td>\n",
       "      <td>355</td>\n",
       "    </tr>\n",
       "    <tr>\n",
       "      <th>9</th>\n",
       "      <td>9</td>\n",
       "      <td>557</td>\n",
       "    </tr>\n",
       "  </tbody>\n",
       "</table>\n",
       "<p>179 rows × 2 columns</p>\n",
       "</div>"
      ],
      "text/plain": [
       "     Closest user  2nd user\n",
       "0               0        68\n",
       "8               8       487\n",
       "12             12       590\n",
       "16             16       402\n",
       "17             17       102\n",
       "..            ...       ...\n",
       "599           599        94\n",
       "606           606       114\n",
       "607           607       521\n",
       "609           609       355\n",
       "9               9       557\n",
       "\n",
       "[179 rows x 2 columns]"
      ]
     },
     "execution_count": 96,
     "metadata": {},
     "output_type": "execute_result"
    }
   ],
   "source": [
    "c = ['Closest user', '2nd user']\n",
    "closest_testing_distances = eu_dist_testing.apply(lambda x: pd.Series(x.nsmallest(2).index, index = c), axis = 1)\n",
    "\n",
    "# show for user 9\n",
    "closest_testing_distances"
   ]
  },
  {
   "cell_type": "markdown",
   "id": "6e04993b",
   "metadata": {},
   "source": [
    "The reason this is done is so it gives the ability to find the 5 most similiar users to user 9 using the smallest euclidean distance. For those similar users, I'll determine the closest distance and index, as done previously. Of those 5 closest neighbors, I'll create an array of the movies watched by those neighbors. The common movies watched by both will be the movies recommended for user 9"
   ]
  },
  {
   "cell_type": "code",
   "execution_count": 97,
   "id": "1903d8ec",
   "metadata": {},
   "outputs": [
    {
     "data": {
      "text/plain": [
       "array([ 222,  592,  596,  661, 1072, 1096, 1221, 1258, 1720, 1922, 1967, 2027, 2296, 2567, 2986,\n",
       "       3185, 3273, 3284, 3533, 3823, 3824, 3830, 4061, 4158, 4305, 4307, 4885, 4992, 5063, 5064,\n",
       "       5126, 5151, 5170, 5265, 5328, 5386, 5418, 5419])"
      ]
     },
     "execution_count": 97,
     "metadata": {},
     "output_type": "execute_result"
    }
   ],
   "source": [
    "# find the movies of the closest users\n",
    "closest_users_to_testing_user = list(closest_testing_distances.loc[9, closest_testing_distances.columns != 'Closest user'])\n",
    "closest_users_to_testing_user_movies = X_training[X_training['userId'].isin(closest_users_to_testing_user)]['movieId'].values \n",
    "closest_users_to_testing_user_movies"
   ]
  },
  {
   "cell_type": "code",
   "execution_count": 98,
   "id": "03b950ce",
   "metadata": {},
   "outputs": [
    {
     "data": {
      "text/plain": [
       "array([   587,    911,   1906,   3577,   4305,   4446,   4992,   4994,   5951,   6534,   6941,\n",
       "         7148,   7152,   7153,   7168,   7374,   7457,   8532,   8868,  31684,  33793,  40818,\n",
       "        49271,  49285,  51704,  58558,  63991,  68953,  69405,  71578,  79090,  81844,  88162,\n",
       "        91528,  92258,  94069,  95166,  95448,  96078, 103334, 103338, 104373, 106695, 109852,\n",
       "       112005, 113274, 113393, 136019, 137594, 140109])"
      ]
     },
     "execution_count": 98,
     "metadata": {},
     "output_type": "execute_result"
    }
   ],
   "source": [
    "# define user 9's movies\n",
    "user = 9\n",
    "testing_user_movies = X_testing[X_testing['userId'] ==  user]['movieId'].values\n",
    "np.array(testing_user_movies)"
   ]
  },
  {
   "cell_type": "code",
   "execution_count": 99,
   "id": "aa62ec55",
   "metadata": {
    "scrolled": false
   },
   "outputs": [
    {
     "name": "stdout",
     "output_type": "stream",
     "text": [
      "[4305, 4992]\n"
     ]
    }
   ],
   "source": [
    "# intersection of movies with user9\n",
    "common_movies_with_testing_user = set(testing_user_movies).intersection(closest_users_to_testing_user_movies)\n",
    "print(sorted(common_movies_with_testing_user))"
   ]
  },
  {
   "cell_type": "markdown",
   "id": "ef2f0eb5",
   "metadata": {},
   "source": [
    "Using this same process, I've created a function that summarizes the process above. This function will return a list of recommended movies given the input of a user number.\n"
   ]
  },
  {
   "cell_type": "code",
   "execution_count": 100,
   "id": "f30bc256",
   "metadata": {
    "scrolled": true
   },
   "outputs": [
    {
     "data": {
      "text/plain": [
       "['Lord of the Rings: The Fellowship of the Ring, The (2001)', 'Shrek (2001)']"
      ]
     },
     "execution_count": 100,
     "metadata": {},
     "output_type": "execute_result"
    }
   ],
   "source": [
    "movies_for_testing_user = list(X_training[X_training['movieId'].isin(common_movies_with_testing_user)]['title'].unique())\n",
    "movies_for_testing_user"
   ]
  },
  {
   "cell_type": "markdown",
   "id": "ba52bcbc",
   "metadata": {},
   "source": [
    "## Recommend The Movie"
   ]
  },
  {
   "cell_type": "markdown",
   "id": "6389af99",
   "metadata": {},
   "source": [
    "Note that this only works for users from the testing data. If a training user is inputted, the function will ask for a different user.\n",
    "Also, if recommendation is made more than once, so like if I made recommendations for 9 and now I make recommendations for 23 (and both 9 and 23 are in the testing set), user 9 stays in the testing set when I make the recommendation for user 23. User 9 will not go in the training set.\n"
   ]
  },
  {
   "cell_type": "code",
   "execution_count": 101,
   "id": "0136518d",
   "metadata": {},
   "outputs": [],
   "source": [
    "def recommend_movie(user : int):\n",
    "    if user in alpha_df_test.index:\n",
    "        # define the selected users row in alpha_df_test and cluster number\n",
    "        alpha_df_test_user_row = alpha_df_test.loc[user]\n",
    "        alpha_df_test_user_cluster = int(alpha_df_test.loc[[user], ['clusters']].values)\n",
    "\n",
    "        # filter alpha_df_test to only have the selected user's cluster\n",
    "        alpha_df_cluster = alpha_df[alpha_df['clusters'] == alpha_df_test_user_cluster]\n",
    "\n",
    "        # append row of selected user and update new dataframe with selected user as alpha_df_cluster_with_testing_user\n",
    "        alpha_df_cluster_with_testing_user = alpha_df_cluster.append(alpha_df_test_user_row)\n",
    "\n",
    "        # Find 5 closest training users to selected user \n",
    "        eu_dist_testing = pd.DataFrame(squareform(pdist(alpha_df_cluster_with_testing_user)), \n",
    "                        columns = alpha_df_cluster_with_testing_user.index, index = alpha_df_cluster_with_testing_user.index)\n",
    "\n",
    "        c = ['Closest user', '2nd user', '3rd user', '4th user', '5th user', '6th']\n",
    "        closest_testing_distances = eu_dist_testing.apply(lambda x: pd.Series(x.nsmallest(6).index, index = c), axis = 1)\n",
    "\n",
    "        # find the movies of the closest users\n",
    "        closest_users_to_testing_user = list(closest_testing_distances.loc[user, closest_testing_distances.columns != 'Closest user'])\n",
    "        closest_users_to_testing_user_movies = X_training[X_training['userId'].isin(closest_users_to_testing_user)]['movieId'].values\n",
    "        \n",
    "        # define selected user's movies\n",
    "        testing_user_movies = X_testing[X_testing['userId'] ==  user]['movieId'].values\n",
    "        common_movies_with_testing_user = set(testing_user_movies).intersection(closest_users_to_testing_user_movies)\n",
    "\n",
    "        # find the intersection of movies watched by selected user and closest user\n",
    "        movies_for_testing_user = list(X_training[X_training['movieId'].isin(common_movies_with_testing_user)]['title'].unique())\n",
    "        print(movies_for_testing_user)\n",
    "        \n",
    "    else:\n",
    "        # if user is not from testing data\n",
    "        print(\"User Not Found in Testing\")"
   ]
  },
  {
   "cell_type": "code",
   "execution_count": 104,
   "id": "85aea409",
   "metadata": {},
   "outputs": [
    {
     "name": "stdout",
     "output_type": "stream",
     "text": [
      "['Forrest Gump (1994)', 'Fargo (1996)', 'Shawshank Redemption, The (1994)']\n"
     ]
    }
   ],
   "source": [
    "recommend_movie(23)"
   ]
  },
  {
   "cell_type": "code",
   "execution_count": 102,
   "id": "1204fd51",
   "metadata": {
    "scrolled": true
   },
   "outputs": [
    {
     "name": "stdout",
     "output_type": "stream",
     "text": [
      "User Not Found in Testing\n"
     ]
    }
   ],
   "source": [
    "recommend_movie(8)"
   ]
  },
  {
   "cell_type": "markdown",
   "id": "3c8f926c",
   "metadata": {},
   "source": [
    "# Bonus: Jaccard Index"
   ]
  },
  {
   "cell_type": "markdown",
   "id": "374be4e1",
   "metadata": {},
   "source": [
    "A Jaccard Index can be used to find the similarity between user 9's movies and closest user's movies. The higher the score, the more similiar."
   ]
  },
  {
   "cell_type": "code",
   "execution_count": 105,
   "id": "122f0722",
   "metadata": {},
   "outputs": [
    {
     "data": {
      "text/plain": [
       "0.023255813953488372"
      ]
     },
     "execution_count": 105,
     "metadata": {},
     "output_type": "execute_result"
    }
   ],
   "source": [
    "def jaccard(list1, list2):\n",
    "    intersection = len(list(set(list1).intersection(list2)))\n",
    "    union = (len(list1) + len(list2)) - intersection\n",
    "    return float(intersection) / union\n",
    "\n",
    "jaccard(testing_user_movies, closest_users_to_testing_user_movies)"
   ]
  }
 ],
 "metadata": {
  "kernelspec": {
   "display_name": "Python 3 (ipykernel)",
   "language": "python",
   "name": "python3"
  },
  "language_info": {
   "codemirror_mode": {
    "name": "ipython",
    "version": 3
   },
   "file_extension": ".py",
   "mimetype": "text/x-python",
   "name": "python",
   "nbconvert_exporter": "python",
   "pygments_lexer": "ipython3",
   "version": "3.9.7"
  }
 },
 "nbformat": 4,
 "nbformat_minor": 5
}
